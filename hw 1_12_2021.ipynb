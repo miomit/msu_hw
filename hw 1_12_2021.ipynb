{
 "cells": [
  {
   "cell_type": "markdown",
   "id": "b8a73aad-5d89-4f18-b49d-7d391df132c5",
   "metadata": {},
   "source": [
    "Hw 18_11_2021"
   ]
  },
  {
   "cell_type": "code",
   "execution_count": 3,
   "id": "04609a40-f54d-407c-b979-a01aeba93ab8",
   "metadata": {},
   "outputs": [],
   "source": [
    "# Проверка целостности матрицы, т.е. количество элементов в строках\n",
    "# должны совпадать, тип матрицы должен быть список\n",
    "def CheckMatrixCompletness(matrix):\n",
    "    # проверяем тип всей матрицы\n",
    "    if type(matrix) is not list:\n",
    "        return False\n",
    "    if type(matrix[0]) is not list:\n",
    "        return False\n",
    "    # определим количество столбцов\n",
    "    column_num = len(matrix[0])\n",
    "    # проверяем целостность всех строк\n",
    "    for row in matrix:\n",
    "        if type(row) is not list:\n",
    "            return False\n",
    "        if len(row) != column_num:\n",
    "            return False\n",
    "    # Проверка, что все элементы матрицы - числа\n",
    "    for element in row:\n",
    "        if type(element) is not int and type(element) is not float:\n",
    "            return False\n",
    "    return True"
   ]
  },
  {
   "cell_type": "code",
   "execution_count": 4,
   "id": "d0ad5625",
   "metadata": {},
   "outputs": [],
   "source": [
    "# Проверка корректности вектора\n",
    "def IsAppropriateVector(arg_list, isRow = True, isPrint = True, dim = None):\n",
    "    \n",
    "    if type(arg_list) is not list:                  # проверка соглашения вида вектора\n",
    "        if isPrint:\n",
    "            print(\"Argument is not vector!\")\n",
    "        return False\n",
    "    \n",
    "    if isRow:                                       # вектор-строка состоит только из чисел\n",
    "        for elem in arg_list:\n",
    "            elemType = type(elem)\n",
    "            if elemType is not int and elemType is not float:\n",
    "                if isPrint:\n",
    "                    print(\"Vector has inappropriate element!\")\n",
    "                return False\n",
    "    else:                                           # вектор-столбец состоит из одноэлементных списков\n",
    "        for elem in arg_list:\n",
    "            if type(elem) is not list or len(elem) != 1:\n",
    "                if isPrint:\n",
    "                    print(\"Vector has inappropriate element!\")\n",
    "                return False\n",
    "            \n",
    "            if type(elem[0]) is not int and type(elem[0]) is not float:\n",
    "                if isPrint:\n",
    "                    print(\"Vector has inappropriate element!\")\n",
    "                return False\n",
    "    \n",
    "    if dim:                                         # проверка длины, если это необходимо\n",
    "        if type(dim) is not int or dim < 1:\n",
    "            if isPrint:\n",
    "                print(\"Inappropriate vector dimension!\")\n",
    "            return False\n",
    "        \n",
    "        if len(arg_list) != dim:\n",
    "            if isPrint:\n",
    "                print(\"Vector dimension isn't correct!\")\n",
    "            return False\n",
    "        \n",
    "    return True"
   ]
  },
  {
   "cell_type": "code",
   "execution_count": 5,
   "id": "89e329a7-75d2-48fa-8393-e208d9b69fa2",
   "metadata": {},
   "outputs": [],
   "source": [
    "def AddVectors(vector_a, vector_b):\n",
    "    if len(vector_a) != len(vector_b):\n",
    "        return \"Vector lengths aren't equal!\"\n",
    "    sum_vector = []\n",
    "    for i in range(len(vector_a)):\n",
    "        sum_vector.append(vector_a[i] + vector_b[i])\n",
    "    return sum_vector"
   ]
  },
  {
   "cell_type": "code",
   "execution_count": 6,
   "id": "9d9bd690-969d-423e-89df-12d9b8a30b23",
   "metadata": {},
   "outputs": [],
   "source": [
    "def MultiplyToScalar(vector, scalar):\n",
    "    res_vector = []\n",
    "    for elem in vector:\n",
    "        res_vector.append(scalar * elem)\n",
    "    return res_vector"
   ]
  },
  {
   "cell_type": "code",
   "execution_count": 7,
   "id": "010bc7ab-b3dc-4356-ac5f-f231c24fc956",
   "metadata": {},
   "outputs": [],
   "source": [
    "def GetColumn(matrix, column):\n",
    "    result = []\n",
    "    \n",
    "    for i in range(0, len(matrix)):\n",
    "        result += [matrix[i][column]]\n",
    "    return result"
   ]
  },
  {
   "cell_type": "code",
   "execution_count": 8,
   "id": "550b6b7d-18b9-4f3d-981b-2bdf6daec20b",
   "metadata": {},
   "outputs": [],
   "source": [
    "def TranspouseMatrix(matrix):\n",
    "    if not CheckMatrixCompletness(matrix):\n",
    "        return \"Matrix is incorrect\"\n",
    "    result = []\n",
    "    for i in range(len(matrix[0])):\n",
    "        result += [[]]\n",
    "        for j in range(len(matrix)):\n",
    "            result[i] += [matrix[j][i]]\n",
    "    return result"
   ]
  },
  {
   "cell_type": "code",
   "execution_count": 9,
   "id": "4416a5ef-2012-4ad7-8cc3-e444cfbec24f",
   "metadata": {},
   "outputs": [],
   "source": [
    "'''\n",
    "    [1 2] [1 2 3] = [9  12 15]\n",
    "    [3 4] [4 5 6] = [19 26 33]\n",
    "    \n",
    "    1 * [1 3]' + 4 * [2 4]' = [1 3]' + [8  16]' = [9  19]'\n",
    "    2 * [1 3]' + 5 * [2 4]' = [2 6]' + [10 20]' = [12 26]'\n",
    "    3 * [1 3]' + 6 * [2 4]' = [3 9]' + [12 24]' = [15 33]'\n",
    "'''\n",
    "def MatrixMultiplation(matrix_a, matrix_b):\n",
    "    # Проверка соответствия на размеров матриц на произведение\n",
    "    matrix_a_shape = CalculateMatrixShape(matrix_a)\n",
    "    matrix_b_shape = CalculateMatrixShape(matrix_b)\n",
    "    \n",
    "    if type(matrix_a_shape) is str:\n",
    "        return \"Matrix_a is incorrect\"\n",
    "    if type(matrix_b_shape) is str:\n",
    "        return \"Matrix_b is incorrect\"\n",
    "    if matrix_a_shape[1] != matrix_b_shape[0]:\n",
    "        return \"Matrices shapes are not insufficient.\"\n",
    "    # --------------------------------------------------------\n",
    "    \n",
    "    #return \"Ok\"\n",
    "    \n",
    "    result = []\n",
    "    \n",
    "    for matrix_b_column_id in range(0, len(matrix_b[0])):\n",
    "        #print(GetColumn(matrix_b, matrix_b_column_id))\n",
    "        matrix_b_column = GetColumn(matrix_b, matrix_b_column_id)\n",
    "        vec_res = [0] * len(matrix_a)\n",
    "        for matrix_a_column_id in range(0, len(matrix_a[0])):\n",
    "            vec = MultiplyToScalar(GetColumn(matrix_a, matrix_a_column_id), matrix_b_column[matrix_a_column_id])\n",
    "            vec_res = AddVectors(vec_res, vec)\n",
    "            #print(\"--\", GetColumn(matrix_a, matrix_a_column_id), \"--\", matrix_b_column[matrix_a_column_id], \"--\", vec)\n",
    "        #print (\"!!!\", vec_res)\n",
    "        result += [vec_res]\n",
    "    return TranspouseMatrix(result)"
   ]
  },
  {
   "cell_type": "code",
   "execution_count": 10,
   "id": "d99d08fe-0e77-48ae-a13c-f399632ca038",
   "metadata": {},
   "outputs": [],
   "source": [
    "# Вычисление размеров матрицы\n",
    "def CalculateMatrixShape(matrix):\n",
    "    if not CheckMatrixCompletness(matrix):\n",
    "        return \"Matrix is incorrect\"\n",
    "    # Количетсво строк\n",
    "    row_num = len(matrix)\n",
    "    # Количетсво столбцов\n",
    "    col_num = len(matrix[0])\n",
    "    return (row_num, col_num)"
   ]
  },
  {
   "cell_type": "code",
   "execution_count": 11,
   "id": "f7a61d5f-6ad9-45be-8b69-d29da2dc68b1",
   "metadata": {},
   "outputs": [],
   "source": [
    "def MatrixMultiplyToScalar(matrix_a, scalar):\n",
    "    # Проверка\n",
    "    matrix_a_shape = CalculateMatrixShape(matrix_a)\n",
    "    \n",
    "    if type(matrix_a_shape) is str:\n",
    "        return \"Matrix_a is incorrect\"\n",
    "    # --------------------------------------------------------\n",
    "    \n",
    "    matrix_a = [] + matrix_a\n",
    "    for i in range(matrix_a_shape[0]):\n",
    "        for j in range(matrix_a_shape[1]):\n",
    "            matrix_a[i][j] *= scalar\n",
    "    return matrix_a"
   ]
  },
  {
   "cell_type": "code",
   "execution_count": 12,
   "id": "563406d8-c708-423b-a27c-e51a5c97b6b6",
   "metadata": {},
   "outputs": [],
   "source": [
    "from copy import deepcopy\n",
    "\n",
    "def det(arr):\n",
    "    size_arr = len(arr)\n",
    "    if size_arr == 1: return arr[0][0]\n",
    "    result = 0\n",
    "    for index_x in range(size_arr):\n",
    "        arr_deepcopy = deepcopy(arr)\n",
    "        del (arr_deepcopy[0])\n",
    "        for i in range(len(arr_deepcopy)):\n",
    "            del (arr_deepcopy[i][index_x])\n",
    "        result += arr[0][index_x] * (-1 if index_x & 1 else 1 ) * det(arr_deepcopy)\n",
    "    return result"
   ]
  },
  {
   "cell_type": "code",
   "execution_count": 13,
   "id": "f0b4dfa0-f17d-43b8-8a1c-bf4cb827c577",
   "metadata": {},
   "outputs": [],
   "source": [
    "from copy import deepcopy\n",
    "\n",
    "#Дополнительный Минор \n",
    "def AdditionalMinor(matrix, row, col):\n",
    "    if not CheckMatrixCompletness(matrix):\n",
    "        return \"Matrix is incorrect\"\n",
    "    \n",
    "    row_num, _ = CalculateMatrixShape(matrix)\n",
    "    \n",
    "    matrix = deepcopy(matrix)\n",
    "    \n",
    "    del (matrix[row])\n",
    "    \n",
    "    for i in range(row_num - 1):\n",
    "        del (matrix[i][col])\n",
    "    \n",
    "    return det(matrix)"
   ]
  },
  {
   "cell_type": "code",
   "execution_count": 14,
   "id": "14ae757c-34ae-40d5-bbe5-3a69176afac8",
   "metadata": {},
   "outputs": [],
   "source": [
    "#Алгебраическое дополнение\n",
    "def AlgebraiComplement(matrix, row, col):\n",
    "    if not CheckMatrixCompletness(matrix):\n",
    "        return \"Matrix is incorrect\"\n",
    "    return (-1)**(row + col) * AdditionalMinor(matrix, row, col)"
   ]
  },
  {
   "cell_type": "code",
   "execution_count": 15,
   "id": "76a8414c-0ff5-4ed1-931b-fc36bd8437a0",
   "metadata": {},
   "outputs": [],
   "source": [
    "def MatrixInverse(matrix):\n",
    "    if not CheckMatrixCompletness(matrix):\n",
    "        return \"Matrix is incorrect\"\n",
    "    \n",
    "    matrixDet = det(matrix)\n",
    "    \n",
    "    if matrixDet == 0:\n",
    "        return \"Det = 0\"\n",
    "    \n",
    "    row_num, col_num = CalculateMatrixShape(matrix)\n",
    "    \n",
    "    if row_num != col_num:\n",
    "        return \"row_num != col_num\"\n",
    "    \n",
    "    result = []\n",
    "    \n",
    "    for i in range(row_num):\n",
    "        result += [[]]\n",
    "        for j in range(col_num):\n",
    "            result[i] += [AlgebraiComplement(matrix, j, i)]\n",
    "    \n",
    "   \n",
    "\n",
    "    return MatrixMultiplyToScalar(result, 1 / matrixDet)"
   ]
  },
  {
   "cell_type": "code",
   "execution_count": 16,
   "id": "543ac54e-5ec4-4db2-8024-4238084502b9",
   "metadata": {},
   "outputs": [
    {
     "name": "stdout",
     "output_type": "stream",
     "text": [
      "[[1.0, 0.0, 0.0], [0.0, 0.5, 0.0], [0.0, 0.0, 0.3333333333333333]]\n"
     ]
    }
   ],
   "source": [
    "a = [[1, 0, 0],\n",
    "     [0, 2, 0],\n",
    "     [0, 0, 3]]\n",
    "\n",
    "print (MatrixInverse(a))"
   ]
  },
  {
   "cell_type": "markdown",
   "id": "5e356ab0",
   "metadata": {},
   "source": [
    "CH 18_11_2021"
   ]
  },
  {
   "cell_type": "code",
   "execution_count": 17,
   "id": "de68f124",
   "metadata": {},
   "outputs": [
    {
     "name": "stdout",
     "output_type": "stream",
     "text": [
      "[[1, 0, 0], [2, 2, 0], [0, 0, 3]]\n"
     ]
    }
   ],
   "source": [
    "from copy import deepcopy\n",
    "\n",
    "def add_row (matrix, k, row_num, row_num2):\n",
    "    if not CheckMatrixCompletness(matrix):\n",
    "        return \"Matrix is incorrect\"\n",
    "    \n",
    "    matrix = deepcopy(matrix)\n",
    "    \n",
    "    _, col_num = CalculateMatrixShape(matrix)\n",
    "        \n",
    "    for c in range(col_num):\n",
    "        matrix[row_num2][c] += matrix[row_num][c] * k\n",
    "        \n",
    "    return matrix\n",
    "\n",
    "a = [[1, 0, 0],\n",
    "     [0, 2, 0],\n",
    "     [0, 0, 3]]\n",
    "\n",
    "print (add_row(a, 2, 0, 1))"
   ]
  },
  {
   "cell_type": "code",
   "execution_count": 18,
   "id": "f95dd8df",
   "metadata": {},
   "outputs": [],
   "source": [
    "def swap_col(matrix, r1, r2):\n",
    "    matrix[r1], matrix[r2] = matrix[r2], matrix[r1]"
   ]
  },
  {
   "cell_type": "code",
   "execution_count": 19,
   "id": "9c742afc",
   "metadata": {},
   "outputs": [
    {
     "name": "stdout",
     "output_type": "stream",
     "text": [
      "[[0, 2, 0], [1, 0, 0], [0, 0, 3]]\n"
     ]
    }
   ],
   "source": [
    "a = [[1, 0, 0],\n",
    "     [0, 2, 0],\n",
    "     [0, 0, 3]]\n",
    "\n",
    "swap_col(a, 0, 1)\n",
    "\n",
    "print(a)"
   ]
  },
  {
   "cell_type": "code",
   "execution_count": 20,
   "id": "955e6742",
   "metadata": {},
   "outputs": [],
   "source": [
    "def getIndexFirstNymberNotZero(vec):\n",
    "    for i in range(len(vec)):\n",
    "        if vec[i] != 0:\n",
    "            return i\n",
    "\n",
    "    return None"
   ]
  },
  {
   "cell_type": "code",
   "execution_count": 21,
   "id": "989954a0",
   "metadata": {},
   "outputs": [
    {
     "name": "stdout",
     "output_type": "stream",
     "text": [
      "False\n"
     ]
    }
   ],
   "source": [
    "vec = [0, 1]\n",
    "a = getIndexFirstNymberNotZero(vec)\n",
    "print(a is None)"
   ]
  },
  {
   "cell_type": "code",
   "execution_count": 22,
   "id": "d32d436c",
   "metadata": {},
   "outputs": [
    {
     "name": "stdout",
     "output_type": "stream",
     "text": [
      "[[1, 2, 3], [0.0, 2.0, 6.0], [0.0, 0.0, 0.0]]\n"
     ]
    }
   ],
   "source": [
    "def step(matrix):\n",
    "    if not CheckMatrixCompletness(matrix):\n",
    "        return \"Matrix is incorrect\"\n",
    "    \n",
    "    row_num, col_num = CalculateMatrixShape(matrix)\n",
    "\n",
    "    col = 0\n",
    "    for R in range(row_num - 1):\n",
    "        vec_col = GetColumn(matrix, col)[R:]\n",
    "\n",
    "        if (vec_col[0] == 0):\n",
    "            while True:\n",
    "                index_el = getIndexFirstNymberNotZero(vec_col)\n",
    "\n",
    "                if index_el is None:\n",
    "                    col += 1\n",
    "\n",
    "                    if col == col_num:\n",
    "                        break\n",
    "\n",
    "                    vec_col = GetColumn(matrix, col)[R:]\n",
    "                else:\n",
    "                    swap_col(matrix, R, R + index_el)\n",
    "                    break\n",
    "\n",
    "        if col == col_num:\n",
    "            break\n",
    "        for r in range(R + 1, row_num):\n",
    "            k = (0 - matrix[r][col]) / matrix[R][col]\n",
    "            matrix = add_row(matrix, k, R, r)\n",
    "\n",
    "        col += 1\n",
    "        \n",
    "    return matrix\n",
    "\n",
    "a = [[1, 2, 3],\n",
    "     [1, 2, 3],\n",
    "     [0, 2, 6]]\n",
    "\n",
    "print (step(a))"
   ]
  },
  {
   "cell_type": "code",
   "execution_count": 23,
   "id": "87756fd4",
   "metadata": {},
   "outputs": [
    {
     "name": "stdout",
     "output_type": "stream",
     "text": [
      "[[1, 0, 0, 1], [3, 2, 0, 2], [0, 0, 3, 3]]\n"
     ]
    }
   ],
   "source": [
    "def GlueMatrixVector(matrix, vector_values, isVectors = True):\n",
    "    if not IsAppropriateVector(vector_values, True, False) and isVectors:\n",
    "        return \"Vector is incorrect\"\n",
    "    elif not CheckMatrixCompletness(matrix) and not isVectors:\n",
    "        return \"Matrix is incorrect\"\n",
    "    if not CheckMatrixCompletness(matrix):\n",
    "        return \"Matrix is incorrect\"\n",
    "        \n",
    "    row_num, col_num = CalculateMatrixShape(matrix)\n",
    "    \n",
    "    if row_num != col_num:\n",
    "        return \"Matrix row_num != col_num\"\n",
    "    \n",
    "    matrix = deepcopy(matrix)\n",
    "    \n",
    "    for i in range(row_num):\n",
    "        if isVectors:\n",
    "            matrix[i] += [vector_values[i]]\n",
    "        else:\n",
    "            matrix[i] += vector_values[i]\n",
    "    return matrix\n",
    "\n",
    "a = [[1, 0, 0],\n",
    "     [3, 2, 0],\n",
    "     [0, 0, 3]]\n",
    "\n",
    "print (GlueMatrixVector(a, [1, 2, 3]))"
   ]
  },
  {
   "cell_type": "code",
   "execution_count": 24,
   "id": "9ee6df0a",
   "metadata": {},
   "outputs": [],
   "source": [
    "def GaussMethod(matrix, vector_values):\n",
    "    if not IsAppropriateVector(vector_values):\n",
    "        return \"Vector is incorrect\"\n",
    "    if not CheckMatrixCompletness(matrix):\n",
    "        return \"Matrix is incorrect\"\n",
    "\n",
    "    row_num, col_num = CalculateMatrixShape(matrix)\n",
    "\n",
    "    if row_num != col_num:\n",
    "        return \"Matrix row_num != col_num\"\n",
    "\n",
    "    if len(vector_values) != row_num:\n",
    "        return \"len(vector_values) != row_num\"\n",
    "\n",
    "    if det(matrix) == 0:\n",
    "        return \"Det = 0\"\n",
    "\n",
    "    matrix = GlueMatrixVector(matrix, vector_values)\n",
    "\n",
    "    matrix_step = step(matrix)\n",
    "\n",
    "    for i in range(len(matrix_step)):\n",
    "        if not matrix_step[i][i]:\n",
    "            return \"бесконечно много решений\"\n",
    "\n",
    "    #print(matrix_step)\n",
    "    result = []\n",
    "    for r in range(row_num):\n",
    "        vec_row = matrix_step[-1-r][:len(matrix_step[-1-r]) - 1]\n",
    "        res = matrix_step[-1-r][-1]\n",
    "\n",
    "        #print(vec_row, res)\n",
    "\n",
    "        index_k = getIndexFirstNymberNotZero(vec_row)\n",
    "\n",
    "        result += [res / vec_row[index_k]]\n",
    "\n",
    "    return result\n"
   ]
  },
  {
   "cell_type": "code",
   "execution_count": 32,
   "id": "a6fcb75e",
   "metadata": {},
   "outputs": [
    {
     "name": "stdout",
     "output_type": "stream",
     "text": [
      "Det = 0\n"
     ]
    }
   ],
   "source": [
    "a = [[1, 0, 0],\n",
    "     [0, 0, 0],\n",
    "     [0, 0, 3]]\n",
    "\n",
    "print (GaussMethod(a, [1, 2, 3]))"
   ]
  },
  {
   "cell_type": "code",
   "execution_count": 26,
   "id": "f67358a5",
   "metadata": {},
   "outputs": [],
   "source": [
    "def indentity_matrix(size):\n",
    "    arr = [[0 for i in range(0, size)] for i in range(0, size)]\n",
    "    for i in range(0, size):\n",
    "        arr[i][i] = 1\n",
    "    return arr"
   ]
  },
  {
   "cell_type": "code",
   "execution_count": 27,
   "id": "b17d013f",
   "metadata": {},
   "outputs": [],
   "source": [
    "def MatrixInverseGauss(matrix):\n",
    "    if not CheckMatrixCompletness(matrix):\n",
    "        return \"Matrix is incorrect\"\n",
    "\n",
    "    if det(matrix) == 0:\n",
    "        return \"Det = 0\"\n",
    "\n",
    "    row_num, col_num = CalculateMatrixShape(matrix)\n",
    "\n",
    "    if row_num != col_num:\n",
    "        return \"row_num != col_num\"\n",
    "\n",
    "    I = indentity_matrix(row_num)\n",
    "    M = deepcopy(matrix)\n",
    "\n",
    "    matrix = GlueMatrixVector(M, I, False)\n",
    "\n",
    "    size = row_num\n",
    "\n",
    "    col = 0\n",
    "    for R in range(size):\n",
    "        vec_col = GetColumn(matrix, col)[R:]\n",
    "\n",
    "        if (vec_col[0] == 0):\n",
    "            while True:\n",
    "                index_el = getIndexFirstNymberNotZero(vec_col)\n",
    "\n",
    "                if index_el is None:\n",
    "                    col += 1\n",
    "\n",
    "                    if col == col_num:\n",
    "                        break\n",
    "\n",
    "                    vec_col = GetColumn(matrix, col)[R:]\n",
    "                else:\n",
    "                    swap_col(matrix, R, R + index_el)\n",
    "                    break\n",
    "\n",
    "        if col == col_num:\n",
    "            break\n",
    "        #print(matrix[R][col])\n",
    "        # 1 = el * k\n",
    "        # k = 1 / el\n",
    "\n",
    "        k = 1 / matrix[R][col]\n",
    "\n",
    "        for i in range(R, len(matrix[R])):\n",
    "            #print(matrix[R][i], end=\" - \")\n",
    "            matrix[R][i] *= k\n",
    "\n",
    "        for up in range(0, R):\n",
    "            #print(\"--up\", matrix[up][col])\n",
    "            k = (0 - matrix[up][col]) / matrix[R][col]\n",
    "            matrix = add_row(matrix, k, R, up)\n",
    "\n",
    "        for down in range(R + 1, size):\n",
    "            #print(\"--down\", matrix[down][col])\n",
    "            k = (0 - matrix[down][col]) / matrix[R][col]\n",
    "            matrix = add_row(matrix, k, R, down)\n",
    "\n",
    "        col += 1\n",
    "\n",
    "    #print(matrix)\n",
    "\n",
    "    return [matrix[i][size:] for i in range(size)]"
   ]
  },
  {
   "cell_type": "code",
   "execution_count": 28,
   "id": "5fe840df",
   "metadata": {},
   "outputs": [
    {
     "name": "stdout",
     "output_type": "stream",
     "text": [
      "[[1.0, 0.0], [0.0, 1.0]]\n",
      "[[1.0, 0.0], [0.0, 1.0]]\n"
     ]
    }
   ],
   "source": [
    "A = [[0, 2],\n",
    "     [1, 0]]\n",
    "\n",
    "a = MatrixInverseGauss(A)\n",
    "b = MatrixInverse(A)\n",
    "\n",
    "print(MatrixMultiplation(A, b))\n",
    "print(MatrixMultiplation(A, a))"
   ]
  },
  {
   "cell_type": "code",
   "execution_count": 29,
   "id": "fcde0ab0",
   "metadata": {},
   "outputs": [
    {
     "data": {
      "text/plain": [
       "[[0, 3], [1, 3]]"
      ]
     },
     "execution_count": 29,
     "metadata": {},
     "output_type": "execute_result"
    }
   ],
   "source": [
    "def set_col(matrix, vec, col):\n",
    "    matrix = deepcopy(matrix)\n",
    "    for i in range(len(matrix)):\n",
    "        matrix[i][col] = vec[i]\n",
    "    return matrix\n",
    "\n",
    "\n",
    "A = [[0, 2],\n",
    "     [1, 0]]\n",
    "\n",
    "set_col(A, [3, 3], 1)"
   ]
  },
  {
   "cell_type": "code",
   "execution_count": 30,
   "id": "6154c7c3",
   "metadata": {},
   "outputs": [],
   "source": [
    "\n",
    "def kramer(matrix, vector_values):\n",
    "    if not IsAppropriateVector(vector_values):\n",
    "        return \"Vector is incorrect\"\n",
    "    if not CheckMatrixCompletness(matrix):\n",
    "        return \"Matrix is incorrect\"\n",
    "\n",
    "    row_num, col_num = CalculateMatrixShape(matrix)\n",
    "\n",
    "    for i in range(len(m)):\n",
    "        if not m[i][i]:\n",
    "            print('бесконечно много решений')\n",
    "            return\n",
    "\n",
    "    if len(vector_values) != row_num:\n",
    "        return \"len(vector_values) != row_num\"\n",
    "\n",
    "    det_matrix = det(matrix)\n",
    "    if det_matrix == 0:\n",
    "        return \"Det = 0\"\n",
    "\n",
    "    result = []\n",
    "    for col in range(col_num):\n",
    "        result += [det(set_col(matrix, vector_values, col)) / det_matrix]\n",
    "    return result\n",
    "\n"
   ]
  },
  {
   "cell_type": "code",
   "execution_count": 31,
   "id": "9e57f397",
   "metadata": {},
   "outputs": [
    {
     "ename": "NameError",
     "evalue": "name 'm' is not defined",
     "output_type": "error",
     "traceback": [
      "\u001b[1;31m---------------------------------------------------------------------------\u001b[0m",
      "\u001b[1;31mNameError\u001b[0m                                 Traceback (most recent call last)",
      "\u001b[1;32m<ipython-input-31-0d7cf745d921>\u001b[0m in \u001b[0;36m<module>\u001b[1;34m\u001b[0m\n\u001b[0;32m      3\u001b[0m \u001b[1;33m\u001b[0m\u001b[0m\n\u001b[0;32m      4\u001b[0m \u001b[1;31m#print(kramer(a))\u001b[0m\u001b[1;33m\u001b[0m\u001b[1;33m\u001b[0m\u001b[1;33m\u001b[0m\u001b[0m\n\u001b[1;32m----> 5\u001b[1;33m \u001b[0mprint\u001b[0m \u001b[1;33m(\u001b[0m\u001b[0mkramer\u001b[0m\u001b[1;33m(\u001b[0m\u001b[0ma\u001b[0m\u001b[1;33m,\u001b[0m \u001b[1;33m[\u001b[0m\u001b[1;36m1\u001b[0m\u001b[1;33m,\u001b[0m \u001b[1;36m2\u001b[0m\u001b[1;33m]\u001b[0m\u001b[1;33m)\u001b[0m\u001b[1;33m)\u001b[0m\u001b[1;33m\u001b[0m\u001b[1;33m\u001b[0m\u001b[0m\n\u001b[0m",
      "\u001b[1;32m<ipython-input-30-1c681fdd4df4>\u001b[0m in \u001b[0;36mkramer\u001b[1;34m(matrix, vector_values)\u001b[0m\n\u001b[0;32m      7\u001b[0m     \u001b[0mrow_num\u001b[0m\u001b[1;33m,\u001b[0m \u001b[0mcol_num\u001b[0m \u001b[1;33m=\u001b[0m \u001b[0mCalculateMatrixShape\u001b[0m\u001b[1;33m(\u001b[0m\u001b[0mmatrix\u001b[0m\u001b[1;33m)\u001b[0m\u001b[1;33m\u001b[0m\u001b[1;33m\u001b[0m\u001b[0m\n\u001b[0;32m      8\u001b[0m \u001b[1;33m\u001b[0m\u001b[0m\n\u001b[1;32m----> 9\u001b[1;33m     \u001b[1;32mfor\u001b[0m \u001b[0mi\u001b[0m \u001b[1;32min\u001b[0m \u001b[0mrange\u001b[0m\u001b[1;33m(\u001b[0m\u001b[0mlen\u001b[0m\u001b[1;33m(\u001b[0m\u001b[0mm\u001b[0m\u001b[1;33m)\u001b[0m\u001b[1;33m)\u001b[0m\u001b[1;33m:\u001b[0m\u001b[1;33m\u001b[0m\u001b[1;33m\u001b[0m\u001b[0m\n\u001b[0m\u001b[0;32m     10\u001b[0m         \u001b[1;32mif\u001b[0m \u001b[1;32mnot\u001b[0m \u001b[0mm\u001b[0m\u001b[1;33m[\u001b[0m\u001b[0mi\u001b[0m\u001b[1;33m]\u001b[0m\u001b[1;33m[\u001b[0m\u001b[0mi\u001b[0m\u001b[1;33m]\u001b[0m\u001b[1;33m:\u001b[0m\u001b[1;33m\u001b[0m\u001b[1;33m\u001b[0m\u001b[0m\n\u001b[0;32m     11\u001b[0m             \u001b[0mprint\u001b[0m\u001b[1;33m(\u001b[0m\u001b[1;34m'бесконечно много решений'\u001b[0m\u001b[1;33m)\u001b[0m\u001b[1;33m\u001b[0m\u001b[1;33m\u001b[0m\u001b[0m\n",
      "\u001b[1;31mNameError\u001b[0m: name 'm' is not defined"
     ]
    }
   ],
   "source": [
    "a = [[5, 6],\n",
    "     [11, 12]]\n",
    "\n",
    "#print(kramer(a))\n",
    "print (kramer(a, [1, 2]))"
   ]
  },
  {
   "cell_type": "code",
   "execution_count": null,
   "id": "4e9cbd20",
   "metadata": {},
   "outputs": [],
   "source": []
  },
  {
   "cell_type": "code",
   "execution_count": null,
   "id": "ede64bd1",
   "metadata": {},
   "outputs": [],
   "source": []
  }
 ],
 "metadata": {
  "kernelspec": {
   "display_name": "Python 3",
   "language": "python",
   "name": "python3"
  },
  "language_info": {
   "codemirror_mode": {
    "name": "ipython",
    "version": 3
   },
   "file_extension": ".py",
   "mimetype": "text/x-python",
   "name": "python",
   "nbconvert_exporter": "python",
   "pygments_lexer": "ipython3",
   "version": "3.8.8"
  }
 },
 "nbformat": 4,
 "nbformat_minor": 5
}
