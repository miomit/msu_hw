{
 "cells": [
  {
   "cell_type": "markdown",
   "id": "105dbcd7-eff0-476e-a46f-46930cc8cfc9",
   "metadata": {},
   "source": [
    "Hw 11_11_2021"
   ]
  },
  {
   "cell_type": "markdown",
   "id": "505092e8-cc22-472b-ac51-ebdf28cf8b84",
   "metadata": {},
   "source": [
    "Транспонировать вектор-строку в вектор-столбец"
   ]
  },
  {
   "cell_type": "code",
   "execution_count": 12,
   "id": "74e1d01c-9bc2-4df1-8f40-4782a5368f70",
   "metadata": {},
   "outputs": [],
   "source": [
    "def TranspouseMatrix(vector):\n",
    "    result = []\n",
    "    \n",
    "    for j in range(len(vector)):\n",
    "        result += [[vector[j]]]\n",
    "    return result"
   ]
  },
  {
   "cell_type": "code",
   "execution_count": 13,
   "id": "b8ab16f1-3c5b-4fbc-828d-c1dd24eafd33",
   "metadata": {},
   "outputs": [
    {
     "name": "stdout",
     "output_type": "stream",
     "text": [
      "[[1], [2], [3]]\n"
     ]
    }
   ],
   "source": [
    "print(TranspouseMatrix([1, 2, 3]))"
   ]
  }
 ],
 "metadata": {
  "kernelspec": {
   "display_name": "Python 3",
   "language": "python",
   "name": "python3"
  },
  "language_info": {
   "codemirror_mode": {
    "name": "ipython",
    "version": 3
   },
   "file_extension": ".py",
   "mimetype": "text/x-python",
   "name": "python",
   "nbconvert_exporter": "python",
   "pygments_lexer": "ipython3",
   "version": "3.8.8"
  }
 },
 "nbformat": 4,
 "nbformat_minor": 5
}
