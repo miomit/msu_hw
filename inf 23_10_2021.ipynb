{
 "cells": [
  {
   "cell_type": "markdown",
   "id": "035db8d7",
   "metadata": {},
   "source": [
    "№0\n",
    "\n",
    "Даны два целых числа A и В (каждое в отдельной строке). Выведите все числа от A до B включительно, в порядке возрастания, если A < B, или в порядке убывания в противном случае."
   ]
  },
  {
   "cell_type": "code",
   "execution_count": 9,
   "id": "adb32686",
   "metadata": {},
   "outputs": [],
   "source": [
    "def printNumInSlice(a, b):\n",
    "    if a == b:\n",
    "        print(b)\n",
    "        return 1\n",
    "    \n",
    "    print(a, end=' ')\n",
    "    \n",
    "    printNumInSlice(a + 1, b)"
   ]
  },
  {
   "cell_type": "code",
   "execution_count": 10,
   "id": "820505b3",
   "metadata": {},
   "outputs": [
    {
     "name": "stdout",
     "output_type": "stream",
     "text": [
      "5 6 7 8 9 10\n"
     ]
    }
   ],
   "source": [
    "printNumInSlice(5, 10)"
   ]
  },
  {
   "cell_type": "markdown",
   "id": "6c1a6736",
   "metadata": {},
   "source": [
    "№1\n",
    "\n",
    "Дано натуральное число N. Выведите слово YES, если число N является точной степенью двойки, или слово NO в противном случае.\n",
    "Операцией возведения в степень пользоваться нельзя!"
   ]
  },
  {
   "cell_type": "code",
   "execution_count": 38,
   "id": "776bbf12",
   "metadata": {},
   "outputs": [],
   "source": [
    "def degreeTwoCheck(N, num = 1):\n",
    "    if N == num:\n",
    "        return True\n",
    "    elif N < num:\n",
    "        return False\n",
    "    else:\n",
    "        return degreeTwoCheck(N, num * 2 if num != 1 else 2)"
   ]
  },
  {
   "cell_type": "code",
   "execution_count": 45,
   "id": "cf3dd7e2",
   "metadata": {},
   "outputs": [
    {
     "name": "stdout",
     "output_type": "stream",
     "text": [
      "False\n"
     ]
    }
   ],
   "source": [
    "print(degreeTwoCheck(5))"
   ]
  },
  {
   "cell_type": "markdown",
   "id": "3f9cdce9",
   "metadata": {},
   "source": [
    "№2\n",
    "\n",
    "Дано натуральное число N. Выведите все его цифры по одной, в обычном порядке, разделяя их пробелами или новыми строками.\n",
    "\n",
    "При решении этой задачи нельзя использовать строки, списки, массивы (ну и циклы, разумеется). Разрешена только рекурсия и целочисленная арифметика."
   ]
  },
  {
   "cell_type": "code",
   "execution_count": 93,
   "id": "8f85f70a",
   "metadata": {},
   "outputs": [],
   "source": [
    "def printEl(N):\n",
    "    if N == 0:\n",
    "        return\n",
    "    printEl (N // 10)\n",
    "    print(N % 10, end=' ')\n",
    "    \n",
    "    \n"
   ]
  },
  {
   "cell_type": "code",
   "execution_count": 95,
   "id": "a90ba413",
   "metadata": {},
   "outputs": [
    {
     "name": "stdout",
     "output_type": "stream",
     "text": [
      "1 2 "
     ]
    }
   ],
   "source": [
    "printEl(12)"
   ]
  },
  {
   "cell_type": "markdown",
   "id": "3ec66c10",
   "metadata": {},
   "source": [
    "№3\n",
    "\n",
    "Дано слово, состоящее только из строчных латинских букв. Проверьте, является ли это слово палиндромом. Выведите YES или NO.\n",
    "При решении этой задачи нельзя пользоваться циклами, в решениях на питоне нельзя использовать срезы с шагом, отличным от 1."
   ]
  },
  {
   "cell_type": "code",
   "execution_count": 106,
   "id": "0dd25fec",
   "metadata": {},
   "outputs": [],
   "source": [
    "def isPalindrome(line):\n",
    "    if len(line) == 0:\n",
    "        return True\n",
    "    if line[0] != line[-1]:\n",
    "        return False\n",
    "    return isPalindrome(line[1:len(line)]) and True\n"
   ]
  },
  {
   "cell_type": "code",
   "execution_count": 111,
   "id": "9675ebce",
   "metadata": {},
   "outputs": [
    {
     "name": "stdout",
     "output_type": "stream",
     "text": [
      "True\n"
     ]
    }
   ],
   "source": [
    "print(IsPalindrome('abcba'))"
   ]
  },
  {
   "cell_type": "markdown",
   "id": "b1fa14a2",
   "metadata": {},
   "source": [
    "№4\n",
    "\n",
    "Дана последовательность натуральных чисел (одно число в строке), завершающаяся числом 0. Выведите все нечетные числа из этой последовательности, сохраняя их порядок.\n",
    "В этой задаче нельзя использовать глобальные переменные и передавать какие-либо параметры в рекурсивную функцию. Функция получает данные, считывая их с клавиатуры. Функция не возвращает значение, а сразу же выводит результат на экран. Основная программа должна состоять только из вызова этой функции."
   ]
  },
  {
   "cell_type": "code",
   "execution_count": 203,
   "id": "dc9e7a85",
   "metadata": {},
   "outputs": [],
   "source": [
    "def printEl(N):\n",
    "    if N % 2 != 1:\n",
    "        N -= 1\n",
    "    if N < 1:\n",
    "        return 0\n",
    "    \n",
    "\n",
    "    printEl(N - 1)\n",
    "    print(N, end=' ')"
   ]
  },
  {
   "cell_type": "code",
   "execution_count": 208,
   "id": "22677489",
   "metadata": {},
   "outputs": [
    {
     "name": "stdout",
     "output_type": "stream",
     "text": [
      "1 3 5 7 9 11 "
     ]
    }
   ],
   "source": [
    "printEl(12)"
   ]
  },
  {
   "cell_type": "markdown",
   "id": "b8aba46e",
   "metadata": {},
   "source": [
    "№5\n",
    "\n",
    "Дана последовательность натуральных чисел (одно число в строке), завершающаяся числом 0. Определите наибольшее значение числа в этой последовательности.\n",
    "В этой задаче нельзя использовать глобальные переменные и передавать какие-либо параметры в рекурсивную функцию. Функция получает данные, считывая их с клавиатуры. Функция возвращает единственное значение: максимум считанной последовательности. Гарантируется, что последовательность содержит хотя бы одно число (кроме нуля)."
   ]
  },
  {
   "cell_type": "code",
   "execution_count": 152,
   "id": "c914ee84",
   "metadata": {},
   "outputs": [],
   "source": [
    "def maxNum(N):\n",
    "    if N == 0:\n",
    "        return 0\n",
    "    \n",
    "    n = N % 10\n",
    "    if n == 0:\n",
    "        return 0\n",
    "    else:\n",
    "        return n if n > maxNum(N // 10) else maxNum(N // 10)\n",
    "    "
   ]
  },
  {
   "cell_type": "code",
   "execution_count": 157,
   "id": "06aec3b1",
   "metadata": {},
   "outputs": [
    {
     "name": "stdout",
     "output_type": "stream",
     "text": [
      "9\n"
     ]
    }
   ],
   "source": [
    "print(maxNum(9132154))"
   ]
  },
  {
   "cell_type": "markdown",
   "id": "138ab3e2",
   "metadata": {},
   "source": [
    "№6\n",
    "\n",
    "Даны числа a и b. Определите, сколько существует последовательностей из a нулей и b единиц, в которых никакие два нуля не стоят рядом."
   ]
  },
  {
   "cell_type": "code",
   "execution_count": 163,
   "id": "c84c155d",
   "metadata": {},
   "outputs": [],
   "source": [
    "def sequencesCount(a, b):\n",
    "    if a > b + 1: \n",
    "        return 0\n",
    "    if a == 0 or b == 0: \n",
    "        return 1\n",
    "    \n",
    "    return sequencesCount(a, b - 1) + sequencesCount(a - 1, b - 1)\n"
   ]
  },
  {
   "cell_type": "code",
   "execution_count": 164,
   "id": "da59cfad",
   "metadata": {},
   "outputs": [
    {
     "name": "stdout",
     "output_type": "stream",
     "text": [
      "4\n"
     ]
    }
   ],
   "source": [
    "print (sequencesCount(1,3))"
   ]
  }
 ],
 "metadata": {
  "kernelspec": {
   "display_name": "Python 3",
   "language": "python",
   "name": "python3"
  },
  "language_info": {
   "codemirror_mode": {
    "name": "ipython",
    "version": 3
   },
   "file_extension": ".py",
   "mimetype": "text/x-python",
   "name": "python",
   "nbconvert_exporter": "python",
   "pygments_lexer": "ipython3",
   "version": "3.8.8"
  }
 },
 "nbformat": 4,
 "nbformat_minor": 5
}
