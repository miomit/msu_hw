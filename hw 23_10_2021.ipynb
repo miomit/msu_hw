{
 "cells": [
  {
   "cell_type": "markdown",
   "id": "3cf3ac59",
   "metadata": {},
   "source": [
    "# Домашняя работа 23.10.2021"
   ]
  },
  {
   "cell_type": "markdown",
   "id": "89e3ea0e",
   "metadata": {},
   "source": [
    "№1 \n",
    "\n",
    "С помощью команды input() вводится некоторые наборы символов (Пример: \"1183241abc00120+4 +10445 \").\n",
    "Нужно отсортировать те участки набора, которые состоят чисел (т.е. в результате получить \"1112348abc00012+4 +01445 \").\n",
    "Для сортировки можно пользоваться любым из реализованных алгоритмов."
   ]
  },
  {
   "cell_type": "code",
   "execution_count": 70,
   "id": "f7125212",
   "metadata": {},
   "outputs": [],
   "source": [
    "def isNum (s):\n",
    "    if s in ['0', '1', '2', '3', '4', '5', '6', '7', '8', '9']:\n",
    "        return True\n",
    "    else:\n",
    "        return False\n",
    "    \n",
    "# '123a1' -> [1, 2, '-', 1]\n",
    "def lineToList(line, symbol = '-'):\n",
    "    result = []\n",
    "    for el in line:\n",
    "        result += [int(el)] if isNum(el) else [symbol]\n",
    "    return result\n",
    "\n",
    "#[1, 2, 3, '-', '-'] -> [3, 4]\n",
    "def getIndexSymbols(arg_list, symbol = '-'):\n",
    "    result = []\n",
    "    for i in range(0, len(arg_list)):\n",
    "        if arg_list[i] == symbol:\n",
    "            result += [i]\n",
    "    return result\n",
    "    \n",
    "# [1, 2, 3, '-', '-', 2] & '---ab-' -> '123ab2'\n",
    "def unificationListNumAndLine(arg_list_num, line, symbol = '-'):\n",
    "    result = ''\n",
    "    \n",
    "    for i in range(0, len(arg_list_num)):\n",
    "        if arg_list_num[i] != symbol:\n",
    "            result += str(arg_list_num[i])\n",
    "        else:\n",
    "            result += line[i]\n",
    "    \n",
    "    return result\n",
    "\n",
    "def lineShortNum(line):\n",
    "    list_num_list = lineToList(line)\n",
    "    indexSymbols = getIndexSymbols(list_num_list)\n",
    "    \n",
    "    #print(list_num_list)\n",
    "    \n",
    "    if indexSymbols[0] != 0: indexSymbols = [-1] + indexSymbols\n",
    "    if indexSymbols[-1] != len(line): indexSymbols += [len(line)]\n",
    "        \n",
    "    for i in range(0, len(indexSymbols) - 1):\n",
    "        list_num = list_num_list[indexSymbols[i] + 1: indexSymbols[i + 1]]\n",
    "        if len(list_num) > 1:\n",
    "            #print(list_num, end=' -> ')\n",
    "            \n",
    "            list_num_list[indexSymbols[i] + 1: indexSymbols[i + 1]] = BubbleSort(list_num)\n",
    "            \n",
    "            #print(list_num_list[indexSymbols[i] + 1: indexSymbols[i + 1]])\n",
    "        #else:\n",
    "            #print('--', list_num)\n",
    "            \n",
    "    return unificationListNumAndLine(list_num_list, line)\n"
   ]
  },
  {
   "cell_type": "code",
   "execution_count": 71,
   "id": "ac7e702a",
   "metadata": {},
   "outputs": [
    {
     "name": "stdout",
     "output_type": "stream",
     "text": [
      "1183241abc00120+4+10445\n",
      "1112348abc00012+4+01445\n"
     ]
    }
   ],
   "source": [
    "print (lineShortNum(input()))"
   ]
  },
  {
   "cell_type": "markdown",
   "id": "49e9b266",
   "metadata": {},
   "source": [
    "Доп функции"
   ]
  },
  {
   "cell_type": "code",
   "execution_count": 72,
   "id": "8760a85c",
   "metadata": {},
   "outputs": [],
   "source": [
    "def BubbleSort(arg_list):\n",
    "    list_len = len(arg_list)\n",
    "    swapped = True\n",
    "    numberOfOperations = 0\n",
    "    right_border = 0\n",
    "    border = 0\n",
    "    while swapped:\n",
    "        swapped = False\n",
    "        for i in range(0, list_len - 1 - right_border):\n",
    "            numberOfOperations += 1\n",
    "            if arg_list[i] > arg_list[i + 1]:\n",
    "                arg_list[i], arg_list[i + 1] = arg_list[i + 1], arg_list[i]\n",
    "                swapped = True\n",
    "                border = i\n",
    "        right_border = list_len - 1 - border\n",
    "    return arg_list"
   ]
  },
  {
   "cell_type": "markdown",
   "id": "3b3ae474",
   "metadata": {},
   "source": [
    "№2\n",
    "\n",
    "QuickSort реализовать с выбором медианного числа списка, вместо случайно выбранного random_value.\n",
    "\n",
    "Медианой ряда чисел (медианой числового ряда) называется число, стоящее посередине упорядоченного по возрастанию ряда чисел — в случае, если количество чисел нечётное. Если же количество чисел в ряду чётно, то медианой ряда является полусумма двух стоящих посередине чисел упорядоченного по возрастанию ряда."
   ]
  },
  {
   "cell_type": "code",
   "execution_count": 73,
   "id": "ab412812",
   "metadata": {},
   "outputs": [],
   "source": [
    "def median(arg_list):\n",
    "    n = len(arg_list)\n",
    "    index = n // 2\n",
    "    \n",
    "    if n % 2:\n",
    "        return arg_list[index]\n",
    "    \n",
    "    a, b = arg_list[index - 1:index + 1]\n",
    "    return (a + b) / 2\n",
    "\n",
    "def QuickSort(arg_list):\n",
    "    if len(arg_list) < 2:\n",
    "        return arg_list\n",
    "    \n",
    "    median_value = arg_list[int(median(list(range(0, len(arg_list) - 1))))] \n",
    "    \n",
    "    lesser_values, same_values, larger_values = [], [], []\n",
    "    \n",
    "    for elem in arg_list:\n",
    "        if elem < median_value:\n",
    "            lesser_values += [elem]\n",
    "        elif elem == median_value:\n",
    "            same_values += [elem]\n",
    "        else:\n",
    "            larger_values += [elem]\n",
    "            \n",
    "    lesser_values_sorted = QuickSort(lesser_values)\n",
    "    larger_values_sorted = QuickSort(larger_values)\n",
    "            \n",
    "    return lesser_values_sorted + same_values + larger_values_sorted\n"
   ]
  },
  {
   "cell_type": "code",
   "execution_count": 74,
   "id": "a11a16c5",
   "metadata": {},
   "outputs": [
    {
     "name": "stdout",
     "output_type": "stream",
     "text": [
      "[0, 3, 3, 4, 5, 6, 32, 43]\n"
     ]
    }
   ],
   "source": [
    "print(QuickSort([4, 3, 5, 3, 6, 43, 0, 32]))"
   ]
  },
  {
   "cell_type": "markdown",
   "id": "492498bc",
   "metadata": {},
   "source": [
    "№3\n",
    "\n",
    "Рисовать блок-схемы алгоритмов сортировки и поиска."
   ]
  },
  {
   "cell_type": "raw",
   "id": "6fcb2512",
   "metadata": {},
   "source": [
    "см файлы 07_10_2021 сортировка.png\n",
    "         23_10_2021 поиск элемента.png"
   ]
  },
  {
   "cell_type": "markdown",
   "id": "5d262290",
   "metadata": {},
   "source": [
    "№4\n",
    "\n",
    "Реализуйте сортировку вставкой, но при поиске позиции для максимального элемента"
   ]
  },
  {
   "cell_type": "code",
   "execution_count": 75,
   "id": "168e3cc2",
   "metadata": {},
   "outputs": [],
   "source": [
    "def max_el_index(arg_list):\n",
    "    index_max = 0\n",
    "    max_element = arg_list[index_max]\n",
    "    for i in range(1, len(arg_list)):\n",
    "        if max_element < arg_list[i]:\n",
    "            index_max = i\n",
    "            max_element = arg_list[index_max]\n",
    "    return index_max\n",
    "\n",
    "def sortInsertMax(arg_list):\n",
    "    for i in range(len(arg_list) - 1, 0, -1):\n",
    "        el_index = max_el_index(arg_list[0:i])\n",
    "        if arg_list[i] < arg_list[el_index]:\n",
    "            arg_list[i], arg_list[el_index] = arg_list[el_index], arg_list[i]\n",
    "    return arg_list"
   ]
  },
  {
   "cell_type": "code",
   "execution_count": 76,
   "id": "819219e6",
   "metadata": {},
   "outputs": [
    {
     "name": "stdout",
     "output_type": "stream",
     "text": [
      "[0, 1, 1, 4, 8, 12, 23, 43]\n"
     ]
    }
   ],
   "source": [
    "print(sortInsertMax([1, 4, 43, 23,1, 0, 8, 12]))"
   ]
  }
 ],
 "metadata": {
  "kernelspec": {
   "display_name": "Python 3",
   "language": "python",
   "name": "python3"
  },
  "language_info": {
   "codemirror_mode": {
    "name": "ipython",
    "version": 3
   },
   "file_extension": ".py",
   "mimetype": "text/x-python",
   "name": "python",
   "nbconvert_exporter": "python",
   "pygments_lexer": "ipython3",
   "version": "3.8.8"
  }
 },
 "nbformat": 4,
 "nbformat_minor": 5
}
