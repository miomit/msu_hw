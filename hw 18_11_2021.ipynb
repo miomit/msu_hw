{
 "cells": [
  {
   "cell_type": "markdown",
   "id": "b8a73aad-5d89-4f18-b49d-7d391df132c5",
   "metadata": {},
   "source": [
    "Hw 18_11_2021"
   ]
  },
  {
   "cell_type": "code",
   "execution_count": 24,
   "id": "04609a40-f54d-407c-b979-a01aeba93ab8",
   "metadata": {},
   "outputs": [],
   "source": [
    "# Проверка целостности матрицы, т.е. количество элементов в строках\n",
    "# должны совпадать, тип матрицы должен быть список\n",
    "def CheckMatrixCompletness(matrix):\n",
    "    # проверяем тип всей матрицы\n",
    "    if type(matrix) is not list:\n",
    "        return False\n",
    "    if type(matrix[0]) is not list:\n",
    "        return False\n",
    "    # определим количество столбцов\n",
    "    column_num = len(matrix[0])\n",
    "    # проверяем целостность всех строк\n",
    "    for row in matrix:\n",
    "        if type(row) is not list:\n",
    "            return False\n",
    "        if len(row) != column_num:\n",
    "            return False\n",
    "    # Проверка, что все элементы матрицы - числа\n",
    "    for element in row:\n",
    "        if type(element) is not int and type(element) is not float:\n",
    "            return False\n",
    "    return True"
   ]
  },
  {
   "cell_type": "code",
   "execution_count": 188,
   "id": "89e329a7-75d2-48fa-8393-e208d9b69fa2",
   "metadata": {},
   "outputs": [],
   "source": [
    "def AddVectors(vector_a, vector_b):\n",
    "    if len(vector_a) != len(vector_b):\n",
    "        return \"Vector lengths aren't equal!\"\n",
    "    sum_vector = []\n",
    "    for i in range(len(vector_a)):\n",
    "        sum_vector.append(vector_a[i] + vector_b[i])\n",
    "    return sum_vector"
   ]
  },
  {
   "cell_type": "code",
   "execution_count": 189,
   "id": "9d9bd690-969d-423e-89df-12d9b8a30b23",
   "metadata": {},
   "outputs": [],
   "source": [
    "def MultiplyToScalar(vector, scalar):\n",
    "    res_vector = []\n",
    "    for elem in vector:\n",
    "        res_vector.append(scalar * elem)\n",
    "    return res_vector"
   ]
  },
  {
   "cell_type": "code",
   "execution_count": 190,
   "id": "010bc7ab-b3dc-4356-ac5f-f231c24fc956",
   "metadata": {},
   "outputs": [],
   "source": [
    "def GetColumn(matrix, column):\n",
    "    result = []\n",
    "    \n",
    "    for i in range(0, len(matrix)):\n",
    "        result += [matrix[i][column]]\n",
    "    return result"
   ]
  },
  {
   "cell_type": "code",
   "execution_count": 191,
   "id": "550b6b7d-18b9-4f3d-981b-2bdf6daec20b",
   "metadata": {},
   "outputs": [],
   "source": [
    "def TranspouseMatrix(matrix):\n",
    "    if not CheckMatrixCompletness(matrix):\n",
    "        return \"Matrix is incorrect\"\n",
    "    result = []\n",
    "    for i in range(len(matrix[0])):\n",
    "        result += [[]]\n",
    "        for j in range(len(matrix)):\n",
    "            result[i] += [matrix[j][i]]\n",
    "    return result"
   ]
  },
  {
   "cell_type": "code",
   "execution_count": 192,
   "id": "4416a5ef-2012-4ad7-8cc3-e444cfbec24f",
   "metadata": {},
   "outputs": [],
   "source": [
    "'''\n",
    "    [1 2] [1 2 3] = [9  12 15]\n",
    "    [3 4] [4 5 6] = [19 26 33]\n",
    "    \n",
    "    1 * [1 3]' + 4 * [2 4]' = [1 3]' + [8  16]' = [9  19]'\n",
    "    2 * [1 3]' + 5 * [2 4]' = [2 6]' + [10 20]' = [12 26]'\n",
    "    3 * [1 3]' + 6 * [2 4]' = [3 9]' + [12 24]' = [15 33]'\n",
    "'''\n",
    "def MatrixMultiplation(matrix_a, matrix_b):\n",
    "    # Проверка соответствия на размеров матриц на произведение\n",
    "    matrix_a_shape = CalculateMatrixShape(matrix_a)\n",
    "    matrix_b_shape = CalculateMatrixShape(matrix_b)\n",
    "    \n",
    "    if type(matrix_a_shape) is str:\n",
    "        return \"Matrix_a is incorrect\"\n",
    "    if type(matrix_b_shape) is str:\n",
    "        return \"Matrix_b is incorrect\"\n",
    "    if matrix_a_shape[1] != matrix_b_shape[0]:\n",
    "        return \"Matrices shapes are not insufficient.\"\n",
    "    # --------------------------------------------------------\n",
    "    \n",
    "    #return \"Ok\"\n",
    "    \n",
    "    result = []\n",
    "    \n",
    "    for matrix_b_column_id in range(0, len(matrix_b[0])):\n",
    "        #print(GetColumn(matrix_b, matrix_b_column_id))\n",
    "        matrix_b_column = GetColumn(matrix_b, matrix_b_column_id)\n",
    "        vec_res = [0] * len(matrix_a)\n",
    "        for matrix_a_column_id in range(0, len(matrix_a[0])):\n",
    "            vec = MultiplyToScalar(GetColumn(matrix_a, matrix_a_column_id), matrix_b_column[matrix_a_column_id])\n",
    "            vec_res = AddVectors(vec_res, vec)\n",
    "            #print(\"--\", GetColumn(matrix_a, matrix_a_column_id), \"--\", matrix_b_column[matrix_a_column_id], \"--\", vec)\n",
    "        #print (\"!!!\", vec_res)\n",
    "        result += [vec_res]\n",
    "    return TranspouseMatrix(result)"
   ]
  },
  {
   "cell_type": "code",
   "execution_count": 193,
   "id": "d99d08fe-0e77-48ae-a13c-f399632ca038",
   "metadata": {},
   "outputs": [],
   "source": [
    "# Вычисление размеров матрицы\n",
    "def CalculateMatrixShape(matrix):\n",
    "    if not CheckMatrixCompletness(matrix):\n",
    "        return \"Matrix is incorrect\"\n",
    "    # Количетсво строк\n",
    "    row_num = len(matrix)\n",
    "    # Количетсво столбцов\n",
    "    col_num = len(matrix[0])\n",
    "    return (row_num, col_num)"
   ]
  },
  {
   "cell_type": "code",
   "execution_count": 194,
   "id": "f7a61d5f-6ad9-45be-8b69-d29da2dc68b1",
   "metadata": {},
   "outputs": [],
   "source": [
    "def MatrixMultiplyToScalar(matrix_a, scalar):\n",
    "    # Проверка\n",
    "    matrix_a_shape = CalculateMatrixShape(matrix_a)\n",
    "    \n",
    "    if type(matrix_a_shape) is str:\n",
    "        return \"Matrix_a is incorrect\"\n",
    "    # --------------------------------------------------------\n",
    "    \n",
    "    matrix_a = [] + matrix_a\n",
    "    for i in range(matrix_a_shape[0]):\n",
    "        for j in range(matrix_a_shape[1]):\n",
    "            matrix_a[i][j] *= scalar\n",
    "    return matrix_a"
   ]
  },
  {
   "cell_type": "code",
   "execution_count": 195,
   "id": "563406d8-c708-423b-a27c-e51a5c97b6b6",
   "metadata": {},
   "outputs": [],
   "source": [
    "from copy import deepcopy\n",
    "\n",
    "def det(arr):\n",
    "    size_arr = len(arr)\n",
    "    if size_arr == 1: return arr[0][0]\n",
    "    result = 0\n",
    "    for index_x in range(size_arr):\n",
    "        arr_deepcopy = deepcopy(arr)\n",
    "        del (arr_deepcopy[0])\n",
    "        for i in range(len(arr_deepcopy)):\n",
    "            del (arr_deepcopy[i][index_x])\n",
    "        result += arr[0][index_x] * (-1 if index_x & 1 else 1 ) * det(arr_deepcopy)\n",
    "    return result"
   ]
  },
  {
   "cell_type": "code",
   "execution_count": 196,
   "id": "f0b4dfa0-f17d-43b8-8a1c-bf4cb827c577",
   "metadata": {},
   "outputs": [],
   "source": [
    "from copy import deepcopy\n",
    "\n",
    "#Дополнительный Минор \n",
    "def AdditionalMinor(matrix, row, col):\n",
    "    if not CheckMatrixCompletness(matrix):\n",
    "        return \"Matrix is incorrect\"\n",
    "    \n",
    "    row_num, _ = CalculateMatrixShape(matrix)\n",
    "    \n",
    "    matrix = deepcopy(matrix)\n",
    "    \n",
    "    del (matrix[row])\n",
    "    \n",
    "    for i in range(row_num - 1):\n",
    "        del (matrix[i][col])\n",
    "    \n",
    "    return det(matrix)"
   ]
  },
  {
   "cell_type": "code",
   "execution_count": 226,
   "id": "14ae757c-34ae-40d5-bbe5-3a69176afac8",
   "metadata": {},
   "outputs": [],
   "source": [
    "#Алгебраическое дополнение\n",
    "def AlgebraiComplement(matrix, row, col):\n",
    "    if not CheckMatrixCompletness(matrix):\n",
    "        return \"Matrix is incorrect\"\n",
    "    return (-1)**(row + col) * AdditionalMinor(matrix, row, col)"
   ]
  },
  {
   "cell_type": "code",
   "execution_count": 242,
   "id": "76a8414c-0ff5-4ed1-931b-fc36bd8437a0",
   "metadata": {},
   "outputs": [],
   "source": [
    "def MatrixInverse(matrix):\n",
    "    if not CheckMatrixCompletness(matrix):\n",
    "        return \"Matrix is incorrect\"\n",
    "    \n",
    "    matrixDet = det(matrix)\n",
    "    \n",
    "    if matrixDet == 0:\n",
    "        return \"Det = 0\"\n",
    "    \n",
    "    row_num, col_num = CalculateMatrixShape(matrix)\n",
    "\n",
    "    result = []\n",
    "    \n",
    "    for i in range(row_num):\n",
    "        result += [[]]\n",
    "        for j in range(col_num):\n",
    "            result[i] += [AlgebraiComplement(matrix, j, i)]\n",
    "    \n",
    "   \n",
    "\n",
    "    return MatrixMultiplyToScalar(result, 1 / matrixDet)"
   ]
  },
  {
   "cell_type": "code",
   "execution_count": 243,
   "id": "543ac54e-5ec4-4db2-8024-4238084502b9",
   "metadata": {},
   "outputs": [
    {
     "name": "stdout",
     "output_type": "stream",
     "text": [
      "[[0.6000000000000001, -0.4, 0.8], [0.7000000000000001, 0.2, 0.1], [-0.1, 0.4, -0.30000000000000004]]\n"
     ]
    }
   ],
   "source": [
    "a = [[-1, 2, -2],\n",
    "     [2, -1, 5],\n",
    "     [3, -2, 4]]\n",
    "\n",
    "print (MatrixInverse(a))"
   ]
  },
  {
   "cell_type": "code",
   "execution_count": null,
   "id": "8e8dae40-82e7-4b0a-9671-20d5965aa84c",
   "metadata": {},
   "outputs": [],
   "source": []
  }
 ],
 "metadata": {
  "kernelspec": {
   "display_name": "Python 3",
   "language": "python",
   "name": "python3"
  },
  "language_info": {
   "codemirror_mode": {
    "name": "ipython",
    "version": 3
   },
   "file_extension": ".py",
   "mimetype": "text/x-python",
   "name": "python",
   "nbconvert_exporter": "python",
   "pygments_lexer": "ipython3",
   "version": "3.8.8"
  }
 },
 "nbformat": 4,
 "nbformat_minor": 5
}
