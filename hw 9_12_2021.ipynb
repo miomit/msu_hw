{
 "cells": [
  {
   "cell_type": "code",
   "execution_count": 1,
   "metadata": {},
   "outputs": [],
   "source": [
    "def bubble_max_row(m, col):\n",
    "    \"\"\"Replace m[col] row with the one of the underlying rows with the modulo greatest first element.\n",
    "    :param m: matrix (list of lists)\n",
    "    :param col: index of the column/row from which underlying search will be launched\n",
    "    :return: None. Function changes the matrix structure.\n",
    "    \"\"\"\n",
    "    max_element = m[col][col]\n",
    "    max_row = col\n",
    "    for i in range(col + 1, len(m)):\n",
    "        if abs(m[i][col]) > abs(max_element):\n",
    "            max_element = m[i][col]\n",
    "            max_row = i\n",
    "    if max_row != col:\n",
    "        m[col], m[max_row] = m[max_row], m[col]\n",
    "\n",
    "\n",
    "def solve_gauss(m):\n",
    "    \"\"\"Solve linear equations system with gaussian method.\n",
    "    :param m: matrix (list of lists)\n",
    "    :return: None\n",
    "    \"\"\"\n",
    "    n = len(m)\n",
    "    # forward trace\n",
    "    for k in range(n - 1):\n",
    "        bubble_max_row(m, k)\n",
    "        for i in range(k + 1, n):\n",
    "            div = m[i][k] / m[k][k]\n",
    "            m[i][-1] -= div * m[k][-1]\n",
    "            for j in range(k, n):\n",
    "                m[i][j] -= div * m[k][j]\n",
    "\n",
    "    for i in range(len(m)):\n",
    "        if not m[i][i]:\n",
    "            print('The system has infinite number of answers...')\n",
    "            return\n",
    "\n",
    "    # backward trace\n",
    "    x = [0 for i in range(n)]\n",
    "    for k in range(n - 1, -1, -1):\n",
    "        x[k] = (m[k][-1] - sum([m[k][j] * x[j] for j in range(k + 1, n)])) / m[k][k]\n",
    "\n",
    "    # Display results\n",
    "    return x\n"
   ]
  },
  {
   "cell_type": "code",
   "execution_count": 2,
   "metadata": {},
   "outputs": [
    {
     "name": "stdout",
     "output_type": "stream",
     "text": [
      "[8.074349270001139e-17, 0.1666666666666666]\n"
     ]
    }
   ],
   "source": [
    "a = [[5, 6, 1],\n",
    "     [11, 12, 2]]\n",
    "\n",
    "print (solve_gauss(a))"
   ]
  },
  {
   "cell_type": "code",
   "execution_count": null,
   "metadata": {},
   "outputs": [],
   "source": []
  }
 ],
 "metadata": {
  "interpreter": {
   "hash": "507df49aff55821ad1e9f0a151968f450ca08f09c117bb62fa095f6455316b5a"
  },
  "kernelspec": {
   "display_name": "Python 3.8.8 64-bit ('base': conda)",
   "language": "python",
   "name": "python3"
  },
  "language_info": {
   "codemirror_mode": {
    "name": "ipython",
    "version": 3
   },
   "file_extension": ".py",
   "mimetype": "text/x-python",
   "name": "python",
   "nbconvert_exporter": "python",
   "pygments_lexer": "ipython3",
   "version": "3.8.8"
  },
  "orig_nbformat": 4
 },
 "nbformat": 4,
 "nbformat_minor": 2
}
