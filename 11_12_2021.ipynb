{
  "cells": [
    {
      "cell_type": "code",
      "execution_count": null,
      "metadata": {
        "id": "SZzigy9JLrTp"
      },
      "outputs": [],
      "source": [
        "def BubbleShort(arg_list):\n",
        "    list_len = len(arg_list)\n",
        "    swapped = True\n",
        "    numberOfOperations = 0\n",
        "\n",
        "    right_border = 0\n",
        "    border = 0\n",
        "\n",
        "    while swapped:\n",
        "        swapped = False\n",
        "        for i in range(0, list_len - 1 - right_border):\n",
        "            numberOfOperations += 1\n",
        "            if arg_list[i][0] > arg_list[i + 1][0]:\n",
        "                arg_list[i], arg_list[i + 1] = arg_list[i + 1], arg_list[i]\n",
        "                swapped = True\n",
        "                border = i\n",
        "        right_border = list_len - 1 - border\n",
        "\n",
        "    return arg_list"
      ]
    },
    {
      "cell_type": "code",
      "execution_count": null,
      "metadata": {
        "id": "jmuLsV6ILrTr"
      },
      "outputs": [],
      "source": [
        "def min_delta(arg_list):\n",
        "    index_min = 0\n",
        "    min_del_val = arg_list[index_min + 1][0] - arg_list[index_min][0]\n",
        "    for i in range(0, len(arg_list) - 1):\n",
        "        if min_del_val > arg_list[i + 1][0] - arg_list[i][0]:\n",
        "            index_min = i\n",
        "            min_del_val = arg_list[index_min + 1][0] - arg_list[index_min][0]\n",
        "    return [arg_list[index_min], arg_list[index_min + 1]]"
      ]
    },
    {
      "cell_type": "code",
      "execution_count": null,
      "metadata": {
        "id": "Vb_TQGaMLrTs"
      },
      "outputs": [],
      "source": [
        "def Pifagor_2d(arg_list):\n",
        "    return ((arg_list[1][0][0] - arg_list[0][0][0])**2 + (arg_list[1][0][1] - arg_list[0][0][1])**2)**0.5\n",
        "    #return [((arg_list[i][0][0]**2 + arg_list[i][0][1]**2)**0.5,i) for i in range(len(arg_list))]"
      ]
    },
    {
      "cell_type": "code",
      "execution_count": null,
      "metadata": {
        "id": "DrAazEjxLrTt"
      },
      "outputs": [],
      "source": [
        "def add_index_list(arg_list):\n",
        "    return [(arg_list[i],i) for i in range(len(arg_list))]"
      ]
    },
    {
      "cell_type": "code",
      "execution_count": null,
      "metadata": {
        "id": "e3CAWXMILrTt"
      },
      "outputs": [],
      "source": [
        "def get_elem(arg_list, i, j):\n",
        "    return [arg_list[i], arg_list[j]]"
      ]
    },
    {
      "cell_type": "code",
      "execution_count": null,
      "metadata": {
        "id": "kn5tnwJ6LrTu"
      },
      "outputs": [],
      "source": [
        "def min_el(arg_list):\n",
        "    index_min = 0\n",
        "    min_element = arg_list[index_min]\n",
        "    for i in range(1, len(arg_list)):\n",
        "        if min_element > arg_list[i]:\n",
        "            index_min = i\n",
        "            min_element = arg_list[index_min]\n",
        "    return arg_list[index_min]"
      ]
    },
    {
      "cell_type": "code",
      "execution_count": null,
      "metadata": {
        "id": "sxAptUC_LrTu",
        "outputId": "570e87d4-a4b1-4528-a83b-c0117bf97f4c"
      },
      "outputs": [
        {
          "name": "stdout",
          "output_type": "stream",
          "text": [
            "[(5, 0), (6, 1)]\n"
          ]
        }
      ],
      "source": [
        "list_A = [5, 6, 7, 49, 23, 43]\n",
        "print(\n",
        "    min_delta(\n",
        "        BubbleShort(\n",
        "            add_index_list(list_A)\n",
        "        )\n",
        "    )\n",
        ")"
      ]
    },
    {
      "cell_type": "code",
      "execution_count": null,
      "metadata": {
        "id": "afbvX0yzLrTw",
        "outputId": "7ff39a6a-e525-4718-8fa2-499302964ddc"
      },
      "outputs": [
        {
          "name": "stdout",
          "output_type": "stream",
          "text": [
            "[(5, 0), (6, 1), (7, 2), (23, 4), (43, 5), (49, 3)]\n"
          ]
        }
      ],
      "source": [
        "print(BubbleShort(add_index_list(list_A)))"
      ]
    },
    {
      "cell_type": "code",
      "execution_count": null,
      "metadata": {
        "id": "S4MbJxaMLrTw",
        "outputId": "34cc5673-a0fd-4c5f-a6e9-e0690ce3e46a"
      },
      "outputs": [
        {
          "name": "stdout",
          "output_type": "stream",
          "text": [
            "0.0\n",
            "0.0\n",
            "[((5, 5), 0), ((5, 5), 1), ((10, 12), 2), ((5, 5), 3), ((5, 5), 4)]\n"
          ]
        }
      ],
      "source": [
        "list_B = [(5, 5), (5, 5), (10, 12), (5, 5), (5, 5)]\n",
        "\n",
        "print(Pifagor_2d(add_index_list(list_B)[0:2]))\n",
        "print(Pifagor_2d(get_elem(add_index_list(list_B), 0, 1)))\n",
        "\n",
        "print(add_index_list(list_B))"
      ]
    },
    {
      "cell_type": "code",
      "execution_count": null,
      "metadata": {
        "id": "cPqy2rwzLrTx",
        "outputId": "d115a483-55d4-4f2f-80a4-a352a716c7a5"
      },
      "outputs": [
        {
          "name": "stdout",
          "output_type": "stream",
          "text": [
            "{0: [0.0, 8.602325267042627, 0.0, 0.0], 1: [8.602325267042627, 0.0, 0.0], 2: [8.602325267042627, 8.602325267042627], 3: [0.0]}\n",
            "0.0\n",
            "[0.0, 0.0, 8.602325267042627, 0.0]\n",
            "0.0\n",
            "0.0 0 1\n",
            "0.0 0 3\n",
            "0.0 0 4\n",
            "0.0 1 3\n",
            "0.0 1 4\n",
            "0.0 3 4\n",
            "[(0, 1), (0, 3), (0, 4), (1, 3), (1, 4), (3, 4)]\n",
            "---------------------------------------\n",
            "((5, 5), (5, 5)); ((5, 5), (5, 5)); ((5, 5), (5, 5)); ((5, 5), (5, 5)); ((5, 5), (5, 5)); ((5, 5), (5, 5)); \n",
            "---------------------------------------\n"
          ]
        }
      ],
      "source": [
        "list_C = add_index_list(list_B)\n",
        "delta_pos = {}\n",
        "for i in range(len(list_C)-1):\n",
        "    delta_pos[i] = []\n",
        "    for j in range(i+1, len(list_C)):\n",
        "        delta_pos[i] += [Pifagor_2d(get_elem(list_C, i, j))]\n",
        "print(delta_pos)\n",
        "\n",
        "print(min_el(delta_pos[0]))\n",
        "min_elems_list = [min_el(delta_pos[i]) for i in range(len(delta_pos))]\n",
        "print(min_elems_list)\n",
        "\n",
        "print (min_el(min_elems_list))\n",
        "\n",
        "min_el_val = min_el(min_elems_list)\n",
        "index_pos_res = []\n",
        "for i in range(len(delta_pos)):\n",
        "    for j in range(len(delta_pos[i])):\n",
        "        if delta_pos[i][j] == min_el_val:\n",
        "            print(delta_pos[i][j], i, i+j+1)\n",
        "            index_pos_res += [(i, i+j+1)]\n",
        "print(index_pos_res)\n",
        "print(\"---------------------------------------\")\n",
        "for i in index_pos_res:\n",
        "    print((list_B[i[0]], list_B[i[1]]), end='; ')\n",
        "print()\n",
        "print(\"---------------------------------------\")\n"
      ]
    },
    {
      "cell_type": "code",
      "execution_count": null,
      "metadata": {
        "id": "YEJS56szLrTy"
      },
      "outputs": [],
      "source": []
    },
    {
      "cell_type": "markdown",
      "source": [
        "Hello Colab\n",
        "\n",
        "\n",
        "\n",
        "```py\n",
        "# Выбран кодовый формат\n",
        "print(\"Hello\")\n",
        "```\n",
        "$$\n",
        "\\forall \\exists b\n",
        "$$\n",
        "*   Новый пункт\n",
        "*   Новый пункт\n",
        "*   Новый пункт\n",
        "*   Новый пункт\n",
        "*   Новый пункт\n",
        "*   Новый пункт\n",
        "*   Новый пункт\n",
        "*   Новый пункт\n",
        "\n",
        "\n",
        "\n"
      ],
      "metadata": {
        "id": "VXWKHKT0LtEp"
      }
    }
  ],
  "metadata": {
    "interpreter": {
      "hash": "507df49aff55821ad1e9f0a151968f450ca08f09c117bb62fa095f6455316b5a"
    },
    "kernelspec": {
      "display_name": "Python 3.8.8 64-bit ('base': conda)",
      "language": "python",
      "name": "python3"
    },
    "language_info": {
      "codemirror_mode": {
        "name": "ipython",
        "version": 3
      },
      "file_extension": ".py",
      "mimetype": "text/x-python",
      "name": "python",
      "nbconvert_exporter": "python",
      "pygments_lexer": "ipython3",
      "version": "3.8.8"
    },
    "orig_nbformat": 4,
    "colab": {
      "provenance": []
    }
  },
  "nbformat": 4,
  "nbformat_minor": 0
}