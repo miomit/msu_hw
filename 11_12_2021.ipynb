{
 "cells": [
  {
   "cell_type": "code",
   "execution_count": 5,
   "metadata": {},
   "outputs": [],
   "source": [
    "def BubbleShort(arg_list):\n",
    "    list_len = len(arg_list)\n",
    "    swapped = True\n",
    "    numberOfOperations = 0\n",
    "\n",
    "    right_border = 0\n",
    "    border = 0\n",
    "\n",
    "    while swapped:\n",
    "        swapped = False\n",
    "        for i in range(0, list_len - 1 - right_border):\n",
    "            numberOfOperations += 1\n",
    "            if arg_list[i][0] > arg_list[i + 1][0]:\n",
    "                arg_list[i], arg_list[i + 1] = arg_list[i + 1], arg_list[i]\n",
    "                swapped = True\n",
    "                border = i\n",
    "        right_border = list_len - 1 - border\n",
    "\n",
    "    return arg_list"
   ]
  },
  {
   "cell_type": "code",
   "execution_count": 12,
   "metadata": {},
   "outputs": [],
   "source": [
    "def min_delta(arg_list):\n",
    "    index_min = 0\n",
    "    min_del_val = arg_list[index_min + 1][0] - arg_list[index_min][0]\n",
    "    for i in range(0, len(arg_list) - 1):\n",
    "        if min_del_val > arg_list[i + 1][0] - arg_list[i][0]:\n",
    "            index_min = i\n",
    "            min_del_val = arg_list[index_min + 1][0] - arg_list[index_min][0]\n",
    "    return [arg_list[index_min], arg_list[index_min + 1]]"
   ]
  },
  {
   "cell_type": "code",
   "execution_count": 20,
   "metadata": {},
   "outputs": [],
   "source": [
    "def add_index_list(arg_list):\n",
    "    return [(arg_list[i],i) for i in range(len(arg_list))]"
   ]
  },
  {
   "cell_type": "code",
   "execution_count": 24,
   "metadata": {},
   "outputs": [
    {
     "name": "stdout",
     "output_type": "stream",
     "text": [
      "[(6, 1), (6, 2)]\n"
     ]
    }
   ],
   "source": [
    "list_A = [5, 6, 6, 43, 23, 43]\n",
    "print(\n",
    "    min_delta(\n",
    "        BubbleShort(\n",
    "            add_index_list(list_A)\n",
    "        )\n",
    "    )\n",
    ")"
   ]
  }
 ],
 "metadata": {
  "interpreter": {
   "hash": "507df49aff55821ad1e9f0a151968f450ca08f09c117bb62fa095f6455316b5a"
  },
  "kernelspec": {
   "display_name": "Python 3.8.8 64-bit ('base': conda)",
   "language": "python",
   "name": "python3"
  },
  "language_info": {
   "codemirror_mode": {
    "name": "ipython",
    "version": 3
   },
   "file_extension": ".py",
   "mimetype": "text/x-python",
   "name": "python",
   "nbconvert_exporter": "python",
   "pygments_lexer": "ipython3",
   "version": "3.8.8"
  },
  "orig_nbformat": 4
 },
 "nbformat": 4,
 "nbformat_minor": 2
}
