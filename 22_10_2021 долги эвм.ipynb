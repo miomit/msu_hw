{
 "cells": [
  {
   "cell_type": "markdown",
   "id": "9774c2b1",
   "metadata": {},
   "source": [
    "# Долги"
   ]
  },
  {
   "cell_type": "markdown",
   "id": "9021bd3d",
   "metadata": {},
   "source": [
    "№1\n",
    "\n",
    "Поиск N позиций минимальных элементов"
   ]
  },
  {
   "cell_type": "code",
   "execution_count": 47,
   "id": "24c8dbf3",
   "metadata": {},
   "outputs": [],
   "source": [
    "def find_n_pos(arg_list, n):\n",
    "    arg_list_copy = []\n",
    "    arg_list_copy += arg_list\n",
    "    \n",
    "    arg_list_len = len(arg_list)\n",
    "    \n",
    "    result = []\n",
    "    \n",
    "    for i in range(0, n):\n",
    "        index_min = min_el(arg_list_copy)\n",
    "        el = arg_list_copy[index_min]\n",
    "        \n",
    "        for j in range(0, arg_list_len):\n",
    "            if arg_list[j] == el:\n",
    "                result += [j]\n",
    "                break\n",
    "        \n",
    "        arg_list_copy = list(filter(lambda x: x != el, arg_list_copy))\n",
    "    return result"
   ]
  },
  {
   "cell_type": "code",
   "execution_count": 48,
   "id": "8c3a988c",
   "metadata": {},
   "outputs": [
    {
     "name": "stdout",
     "output_type": "stream",
     "text": [
      "[0, 1, 3, 2, 8]\n"
     ]
    }
   ],
   "source": [
    "print(find_n_pos([0, 1, 4, 2, 1, 8, 9, 4, 6], 5))"
   ]
  },
  {
   "cell_type": "markdown",
   "id": "9c0cad30",
   "metadata": {},
   "source": [
    "№2\n",
    "\n",
    "Составить один словарь: ключами - элементы первого словаря, значения: если ключ только в первом списке - то значение совпадает\n",
    "с его позицией; если ключей несколько в первом списке - то значение состоит из списка их всего позиций; если ключ есть в\n",
    "обеих списках - то значение будет словарем {'1' : [], '2': []}; все позиций элементов из второго списка, которых нет в первом -\n",
    "в список при ключе 'Others'."
   ]
  },
  {
   "cell_type": "code",
   "execution_count": 3,
   "id": "b9c6dd2c",
   "metadata": {},
   "outputs": [],
   "source": [
    "def list_to_dictionary(arg_list):\n",
    "    result = {}\n",
    "            \n",
    "    for index_list in range(0, len(arg_list)):\n",
    "        result_keys = list(result.keys())\n",
    "        \n",
    "        if arg_list[index_list] in result_keys: \n",
    "            result[arg_list[index_list]] += [index_list]\n",
    "        else:\n",
    "            result[arg_list[index_list]] = []\n",
    "            result[arg_list[index_list]] += [index_list]\n",
    "    \n",
    "    return result\n",
    "\n",
    "def one_dictionary(arg_list1, arg_list2):\n",
    "    \n",
    "    list1, list2 = list_to_dictionary(arg_list1), list_to_dictionary(arg_list2)\n",
    "    \n",
    "    #print(list1); print(list2)\n",
    "    \n",
    "    list1_keys, list2_keys = list(list1.keys()), list(list2.keys())\n",
    "    \n",
    "    #print(list1_keys); print(list2_keys)\n",
    "    \n",
    "    for list1_key in list1_keys:\n",
    "        for list2_key in list2_keys:\n",
    "            if list1_key == list2_key:\n",
    "                list1[list1_key] = {'1': list1[list1_key], '2': list2[list2_key]}\n",
    "                list2.pop(list2_key)\n",
    "    \n",
    "    #print(list1); print(list2)\n",
    "    \n",
    "    if len(list2) != 0:\n",
    "        list1['Others'] = []\n",
    "        for list2_key in list2:\n",
    "            list1['Others'] += list2[list2_key]\n",
    "    \n",
    "    return list1\n",
    "    \n"
   ]
  },
  {
   "cell_type": "code",
   "execution_count": 4,
   "id": "c35c8f0a",
   "metadata": {},
   "outputs": [
    {
     "name": "stdout",
     "output_type": "stream",
     "text": [
      "{'abcs': {'1': [0, 5], '2': [2]}, 15: [1], 12.3: [2, 6], True: [3], False: [4], 'Others': [0, 1]}\n"
     ]
    }
   ],
   "source": [
    "print(one_dictionary(['abcs', 15, 12.3, True, False, 'abcs', 12.3], [10, 10.1, 'abcs']))"
   ]
  },
  {
   "cell_type": "markdown",
   "id": "a7c5969d",
   "metadata": {},
   "source": [
    "Вспомогательная функция min_el, которая возвращает позицию минимального элемента из списка"
   ]
  },
  {
   "cell_type": "code",
   "execution_count": 4,
   "id": "68f38698",
   "metadata": {},
   "outputs": [],
   "source": [
    "def min_el(arg_list):\n",
    "    index_min = 0\n",
    "    min_element = arg_list[index_min]\n",
    "    for i in range(1, len(arg_list)):\n",
    "        if min_element > arg_list[i]:\n",
    "            index_min = i\n",
    "            min_element = arg_list[index_min]\n",
    "    return index_min"
   ]
  }
 ],
 "metadata": {
  "kernelspec": {
   "display_name": "Python 3",
   "language": "python",
   "name": "python3"
  },
  "language_info": {
   "codemirror_mode": {
    "name": "ipython",
    "version": 3
   },
   "file_extension": ".py",
   "mimetype": "text/x-python",
   "name": "python",
   "nbconvert_exporter": "python",
   "pygments_lexer": "ipython3",
   "version": "3.8.8"
  }
 },
 "nbformat": 4,
 "nbformat_minor": 5
}
