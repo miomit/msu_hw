{
 "cells": [
  {
   "cell_type": "markdown",
   "id": "d668aa41-4bd7-41fa-9b70-98970413d6a2",
   "metadata": {},
   "source": [
    "# Долги"
   ]
  },
  {
   "cell_type": "markdown",
   "id": "43ac15fd-2834-4c48-9d2d-77520b23f8f0",
   "metadata": {},
   "source": [
    "№1\n",
    "\n",
    "Поиск N позиций минимальных элементов"
   ]
  },
  {
   "cell_type": "markdown",
   "id": "8e0ef1d3-d79d-4b1d-9de3-3ff86f6e0d78",
   "metadata": {},
   "source": [
    "[1, 2, 5, 0, 7, 9, 0, 1, 2, 3, 4] - na vhod, n = 5\n",
    "1) result = [3, 6] - позиции минимального элемента = 0\n",
    "2) от 0 до 3: [1, 2, 5].\n",
    "от 1 до 6: [7, 9].\n",
    "от 7 до конца: [1, 2, 2, 4]\n",
    "3) resull = [3, 6, 0] после первого среза\n",
    "result = [3, 6, 0, 7] после третьего среза\n",
    "4) Срезы : [2, 5], [2, 9], [], [2, 3, 4]\n",
    "result: [3, 6, 0, 7, 1] после первого среза\n",
    "values_result : [0, 0, 1, 1, 2]\n",
    "\n",
    "Advice: result sorted = sort(result)"
   ]
  },
  {
   "cell_type": "code",
   "execution_count": 85,
   "id": "11938b13-7036-4e6e-b9fb-9bd851d691db",
   "metadata": {},
   "outputs": [],
   "source": [
    "def min_index(arg_list):\n",
    "    index_min = 0\n",
    "    min_element = arg_list[index_min]\n",
    "    for i in range(1, len(arg_list)):\n",
    "        if min_element > arg_list[i]:\n",
    "            index_min = i\n",
    "            min_element = arg_list[index_min]\n",
    "    return index_min\n",
    "\n",
    "def max_index(arg_list):\n",
    "    index_max = 0\n",
    "    max_element = arg_list[index_max]\n",
    "    for i in range(1, len(arg_list)):\n",
    "        if max_element < arg_list[i]:\n",
    "            index_max = i\n",
    "            max_element = arg_list[index_max]\n",
    "    return index_max\n",
    "\n",
    "def find_all_mins_index(arg_list, count_min_skips = 0):\n",
    "    arg_list = [] + arg_list\n",
    "    if count_min_skips != 0:\n",
    "        for s in range(0, count_min_skips):\n",
    "            \n",
    "            index_min_el = min_index(arg_list)\n",
    "            min_elem = arg_list[index_min_el]\n",
    "            \n",
    "            index_min_el = max_index(arg_list)\n",
    "            max_elem = arg_list[index_min_el]\n",
    "            for i in range(0, len(arg_list)):\n",
    "                if arg_list[i] == min_elem:\n",
    "                    arg_list[i] = max_elem\n",
    "                \n",
    "    index_min_el = min_index(arg_list)\n",
    "    elem = arg_list[index_min_el]\n",
    "    res = []\n",
    "    for i in range(0, len(arg_list)):\n",
    "        if elem == arg_list[i]:\n",
    "            res += [i]\n",
    "    return res\n",
    "\n",
    "def find_n_pos(arg_list, n):\n",
    "    result = []\n",
    "    \n",
    "    indexMins = find_all_mins_index (arg_list)\n",
    "    for i in range(0, n):\n",
    "        #print(arg_list, i, find_all_mins_index (arg_list, i))\n",
    "        result += find_all_mins_index (arg_list, i)\n",
    "        if len(result) >= n: break\n",
    "    \n",
    "    return result[0:n]"
   ]
  },
  {
   "cell_type": "code",
   "execution_count": 88,
   "id": "4990854f-307f-4b5e-9377-d6dd5e79040b",
   "metadata": {},
   "outputs": [
    {
     "name": "stdout",
     "output_type": "stream",
     "text": [
      "[0, 1, 4, 3, 2]\n"
     ]
    }
   ],
   "source": [
    "print(find_n_pos([0, 1, 4, 2, 1, 8, 9, 4, 6], 5))\n",
    "\n",
    "#[1, 2, 5, 0, 7, 9, 0, 1, 2, 3, 4]"
   ]
  },
  {
   "cell_type": "markdown",
   "id": "5ccb4d49-9084-4722-83b0-f308300e849b",
   "metadata": {},
   "source": [
    "Тест функции find_all_mins_index"
   ]
  },
  {
   "cell_type": "code",
   "execution_count": 90,
   "id": "6bd3aaba-7984-4c18-be3b-8e0bce7e93b8",
   "metadata": {},
   "outputs": [
    {
     "name": "stdout",
     "output_type": "stream",
     "text": [
      "[3, 6]\n"
     ]
    }
   ],
   "source": [
    "print(find_all_mins_index([1, 2, 5, 0, 7, 9, 0, 1, 2, 3, 4]))"
   ]
  }
 ],
 "metadata": {
  "kernelspec": {
   "display_name": "Python 3",
   "language": "python",
   "name": "python3"
  },
  "language_info": {
   "codemirror_mode": {
    "name": "ipython",
    "version": 3
   },
   "file_extension": ".py",
   "mimetype": "text/x-python",
   "name": "python",
   "nbconvert_exporter": "python",
   "pygments_lexer": "ipython3",
   "version": "3.8.8"
  }
 },
 "nbformat": 4,
 "nbformat_minor": 5
}
