{
 "cells": [
  {
   "cell_type": "markdown",
   "id": "dfb0a59b",
   "metadata": {},
   "source": [
    "Hw 07_11_2021"
   ]
  },
  {
   "cell_type": "code",
   "execution_count": 29,
   "id": "f677ea32",
   "metadata": {},
   "outputs": [],
   "source": [
    "def AddVectors(vector_a, vector_b):\n",
    "    if len(vector_a) != len(vector_b):\n",
    "        return \"Vector lengths aren't equal!\"\n",
    "    sum_vector = []\n",
    "    for i in range(len(vector_a)):\n",
    "        sum_vector.append(vector_a[i] + vector_b[i])\n",
    "    return sum_vector"
   ]
  },
  {
   "cell_type": "code",
   "execution_count": 30,
   "id": "210c7a89",
   "metadata": {},
   "outputs": [
    {
     "name": "stdout",
     "output_type": "stream",
     "text": [
      "[2, 6, 8]\n"
     ]
    }
   ],
   "source": [
    "print(AddVectors([1,2,3], [1, 4,5]))"
   ]
  },
  {
   "cell_type": "code",
   "execution_count": 27,
   "id": "167427e0",
   "metadata": {},
   "outputs": [],
   "source": [
    "def MultiplyToScalar(vector, scalar):\n",
    "    res_vector = []\n",
    "    for elem in vector:\n",
    "        res_vector. append(scalar * elem)\n",
    "    return res_vector"
   ]
  },
  {
   "cell_type": "code",
   "execution_count": 28,
   "id": "d41d2e33",
   "metadata": {},
   "outputs": [
    {
     "name": "stdout",
     "output_type": "stream",
     "text": [
      "[2, 4, 6]\n"
     ]
    }
   ],
   "source": [
    "print(MultiplyToScalar([1,2,3], 2))"
   ]
  },
  {
   "cell_type": "code",
   "execution_count": 31,
   "id": "e28e0db2",
   "metadata": {},
   "outputs": [],
   "source": [
    "def GetColumn(matrix, column):\n",
    "    result = []\n",
    "    \n",
    "    for i in range(0, len(matrix)):\n",
    "        result += [matrix[i][column]]\n",
    "    return result"
   ]
  },
  {
   "cell_type": "code",
   "execution_count": 34,
   "id": "6f918922",
   "metadata": {},
   "outputs": [
    {
     "name": "stdout",
     "output_type": "stream",
     "text": [
      "[2, 4]\n"
     ]
    }
   ],
   "source": [
    "matrix = [[1, 2], [2, 4]]\n",
    "\n",
    "print(GetColumn(matrix, 1))"
   ]
  },
  {
   "cell_type": "code",
   "execution_count": 49,
   "id": "5c542c13",
   "metadata": {},
   "outputs": [],
   "source": [
    "# Проверка целостности матрицы, т.е. количество элементов в строках\n",
    "# должны совпадать, тип матрицы должен быть список\n",
    "def CheckMatrixCompletness(matrix):\n",
    "    # проверяем тип всей матрицы\n",
    "    if type(matrix) is not list:\n",
    "        return False\n",
    "    if type(matrix[0]) is not list:\n",
    "        return False\n",
    "    # определим количество столбцов\n",
    "    column_num = len(matrix[0])\n",
    "    # проверяем целостность всех строк\n",
    "    for row in matrix:\n",
    "        if type(row) is not list:\n",
    "            return False\n",
    "        if len(row) != column_num:\n",
    "            return False\n",
    "    # Проверка, что все элементы матрицы - числа\n",
    "    for element in row:\n",
    "        if type(element) is not int and type(element) is not float:\n",
    "            return False\n",
    "    return True"
   ]
  },
  {
   "cell_type": "code",
   "execution_count": 50,
   "id": "d0dae1f3",
   "metadata": {},
   "outputs": [],
   "source": [
    "# Вычисление размеров матрицы\n",
    "def CalculateMatrixShape(matrix):\n",
    "    if not CheckMatrixCompletness(matrix):\n",
    "        return \"Matrix is incorrect\"\n",
    "    # Количетсво строк\n",
    "    row_num = len(matrix)\n",
    "    # Количетсво столбцов\n",
    "    col_num = len(matrix[0])\n",
    "    return (row_num, col_num)"
   ]
  },
  {
   "cell_type": "code",
   "execution_count": 177,
   "id": "39276ea7",
   "metadata": {},
   "outputs": [],
   "source": [
    "def TranspouseMatrix(matrix):\n",
    "    result = []\n",
    "    for i in range(len(matrix[0])):\n",
    "        result += [[]]\n",
    "        for j in range(len(matrix)):\n",
    "            result[i] += [matrix[j][i]]\n",
    "    return result"
   ]
  },
  {
   "cell_type": "code",
   "execution_count": 178,
   "id": "1374686e",
   "metadata": {},
   "outputs": [
    {
     "name": "stdout",
     "output_type": "stream",
     "text": [
      "[[0, 4], [1, 5], [2, 6]]\n"
     ]
    }
   ],
   "source": [
    "print(TranspouseMatrix([[0, 1, 2], [4, 5, 6]]))"
   ]
  },
  {
   "cell_type": "code",
   "execution_count": 200,
   "id": "9a6e458b",
   "metadata": {},
   "outputs": [],
   "source": [
    "'''\n",
    "    [1 2] [1 2 3] = [9  12 15]\n",
    "    [3 4] [4 5 6] = [19 26 33]\n",
    "    \n",
    "    1 * [1 3]' + 4 * [2 4]' = [1 3]' + [8  16]' = [9  19]'\n",
    "    2 * [1 3]' + 5 * [2 4]' = [2 6]' + [10 20]' = [12 26]'\n",
    "    3 * [1 3]' + 6 * [2 4]' = [3 9]' + [12 24]' = [15 33]'\n",
    "'''\n",
    "def MatrixMultiplation(matrix_a, matrix_b):\n",
    "    # Проверка соответствия на размеров матриц на произведение\n",
    "    matrix_a_shape = CalculateMatrixShape(matrix_a)\n",
    "    matrix_b_shape = CalculateMatrixShape(matrix_b)\n",
    "    \n",
    "    if type(matrix_a_shape) is str:\n",
    "        return \"Matrix_a is incorrect\"\n",
    "    if type(matrix_b_shape) is str:\n",
    "        return \"Matrix_b is incorrect\"\n",
    "    if matrix_a_shape[1] != matrix_b_shape[0]:\n",
    "        return \"Matrices shapes are not insufficient.\"\n",
    "    # --------------------------------------------------------\n",
    "    \n",
    "    #return \"Ok\"\n",
    "    \n",
    "    result = []\n",
    "    \n",
    "    for matrix_b_column_id in range(0, len(matrix_b[0])):\n",
    "        #print(GetColumn(matrix_b, matrix_b_column_id))\n",
    "        matrix_b_column = GetColumn(matrix_b, matrix_b_column_id)\n",
    "        vec_res = [0] * len(matrix_a)\n",
    "        for matrix_a_column_id in range(0, len(matrix_a[0])):\n",
    "            vec = MultiplyToScalar(GetColumn(matrix_a, matrix_a_column_id), matrix_b_column[matrix_a_column_id])\n",
    "            vec_res = AddVectors(vec_res, vec)\n",
    "            #print(\"--\", GetColumn(matrix_a, matrix_a_column_id), \"--\", matrix_b_column[matrix_a_column_id], \"--\", vec)\n",
    "        #print (\"!!!\", vec_res)\n",
    "        result += [vec_res]\n",
    "    return TranspouseMatrix(result)"
   ]
  },
  {
   "cell_type": "code",
   "execution_count": 211,
   "id": "241f33e3",
   "metadata": {},
   "outputs": [],
   "source": [
    "matrix_a = [[1, 2, 1],\n",
    "            [0, 1, 2]]\n",
    "\n",
    "matrix_b = [[1, 0],\n",
    "            [0, 1],\n",
    "            [1, 1]]"
   ]
  },
  {
   "cell_type": "code",
   "execution_count": 212,
   "id": "e06f83ae",
   "metadata": {},
   "outputs": [
    {
     "name": "stdout",
     "output_type": "stream",
     "text": [
      "[[2, 3], [2, 3]]\n"
     ]
    }
   ],
   "source": [
    "print(MatrixMultiplation(matrix_a, matrix_b))"
   ]
  },
  {
   "cell_type": "code",
   "execution_count": null,
   "id": "ed04edad",
   "metadata": {},
   "outputs": [],
   "source": []
  }
 ],
 "metadata": {
  "kernelspec": {
   "display_name": "Python 3",
   "language": "python",
   "name": "python3"
  },
  "language_info": {
   "codemirror_mode": {
    "name": "ipython",
    "version": 3
   },
   "file_extension": ".py",
   "mimetype": "text/x-python",
   "name": "python",
   "nbconvert_exporter": "python",
   "pygments_lexer": "ipython3",
   "version": "3.8.8"
  }
 },
 "nbformat": 4,
 "nbformat_minor": 5
}
