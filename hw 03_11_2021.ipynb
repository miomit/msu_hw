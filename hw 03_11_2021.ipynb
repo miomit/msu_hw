{
 "cells": [
  {
   "cell_type": "code",
   "execution_count": 11,
   "id": "4b220bee",
   "metadata": {},
   "outputs": [],
   "source": [
    "def ScalarMult(vector_a, vector_b):\n",
    "    if len(vector_a) != len(vector_b):\n",
    "        return \"Vector lengths aren't equal!\"\n",
    "    scalar = 0\n",
    "    for i in range(len(vector_a)):\n",
    "        scalar += vector_a[i] * vector_b[i]\n",
    "    return scalar"
   ]
  },
  {
   "cell_type": "code",
   "execution_count": 12,
   "id": "95eb92f0",
   "metadata": {},
   "outputs": [
    {
     "name": "stdout",
     "output_type": "stream",
     "text": [
      "-10\n"
     ]
    }
   ],
   "source": [
    "print(ScalarMult([-1, 3, 2], [4, 0, -3]))"
   ]
  },
  {
   "cell_type": "code",
   "execution_count": 13,
   "id": "f7b61ba2",
   "metadata": {},
   "outputs": [],
   "source": [
    "def AddVectors(vector_a, vector_b):\n",
    "    if len(vector_a) != len(vector_b):\n",
    "        return \"Vector lengths aren't equal!\"\n",
    "    sum_vector = []\n",
    "    for i in range(len(vector_a)):\n",
    "        sum_vector.append(vector_a[i] + vector_b[i])\n",
    "    return sum_vector"
   ]
  },
  {
   "cell_type": "code",
   "execution_count": 14,
   "id": "dd83662d",
   "metadata": {},
   "outputs": [
    {
     "name": "stdout",
     "output_type": "stream",
     "text": [
      "[2, 6, 8]\n"
     ]
    }
   ],
   "source": [
    "print(AddVectors([1,2,3], [1, 4,5]))"
   ]
  },
  {
   "cell_type": "code",
   "execution_count": 16,
   "id": "08ff2545",
   "metadata": {},
   "outputs": [],
   "source": [
    "def MultiplyToScalar(vector, scalar):\n",
    "    res_vector = []\n",
    "    for elem in vector:\n",
    "        res_vector. append(scalar * elem)\n",
    "    return res_vector"
   ]
  },
  {
   "cell_type": "code",
   "execution_count": 17,
   "id": "3a684e67",
   "metadata": {},
   "outputs": [
    {
     "name": "stdout",
     "output_type": "stream",
     "text": [
      "[2, 4, 6]\n"
     ]
    }
   ],
   "source": [
    "print(MultiplyToScalar([1,2,3], 2))"
   ]
  },
  {
   "cell_type": "code",
   "execution_count": 31,
   "id": "81a33403",
   "metadata": {},
   "outputs": [],
   "source": [
    "def CalcVectorModule(vector):\n",
    "    # |a| = (a,a) (1/2)\n",
    "    return (ScalarMult(vector, vector))**0.5"
   ]
  },
  {
   "cell_type": "code",
   "execution_count": 32,
   "id": "09870b87",
   "metadata": {},
   "outputs": [
    {
     "name": "stdout",
     "output_type": "stream",
     "text": [
      "5.0\n"
     ]
    }
   ],
   "source": [
    "print(CalcVectorModule([3,4,0]))"
   ]
  },
  {
   "cell_type": "markdown",
   "id": "be4a421a",
   "metadata": {},
   "source": [
    "HW\n",
    "\n",
    "1) Посчитать косинус и синус угла между двумя векторами.\n",
    "\n",
    "2) Посчитать результат векторного произведения (дописать функцию VectorMult)"
   ]
  },
  {
   "cell_type": "code",
   "execution_count": 20,
   "id": "f39cbac4",
   "metadata": {},
   "outputs": [],
   "source": [
    "def VectorCos(vector_a, vector_b):\n",
    "    if len(vector_a) != len(vector_b):\n",
    "        return \"Vector lengths aren't equal!\"\n",
    "    #cosA=a*b/|a|*|b|\n",
    "    return ScalarMult(vector_a, vector_b) / (CalcVectorModule(vector_a) * CalcVectorModule(vector_b))"
   ]
  },
  {
   "cell_type": "code",
   "execution_count": 22,
   "id": "cee6a522",
   "metadata": {},
   "outputs": [
    {
     "name": "stdout",
     "output_type": "stream",
     "text": [
      "0.7071067811865475\n"
     ]
    }
   ],
   "source": [
    "print(VectorCos([1, 1], [0, 1]))"
   ]
  },
  {
   "cell_type": "code",
   "execution_count": 29,
   "id": "d10b1b05",
   "metadata": {},
   "outputs": [],
   "source": [
    "def VectorSin(vector_a, vector_b):\n",
    "    if len(vector_a) != len(vector_b):\n",
    "        return \"Vector lengths aren't equal!\"\n",
    "    #sinA=sqrt(1-cos^2(A))\n",
    "    return (1 - VectorCos(vector_a, vector_b)**2)**0.5"
   ]
  },
  {
   "cell_type": "code",
   "execution_count": 30,
   "id": "930949eb",
   "metadata": {},
   "outputs": [
    {
     "name": "stdout",
     "output_type": "stream",
     "text": [
      "1.0\n"
     ]
    }
   ],
   "source": [
    "print(VectorSin([1, 0], [0, 1]))"
   ]
  },
  {
   "cell_type": "code",
   "execution_count": 33,
   "id": "a09df600",
   "metadata": {},
   "outputs": [],
   "source": [
    "def VectorMult(vector_a, vector_b):\n",
    "    if len(vector_a) != len(vector_b):\n",
    "        return \"Vector lengths aren't equal!\"\n",
    "    # |c| = |a| * |b| * sin(a, b)\n",
    "    return CalcVectorModule(vector_a) * CalcVectorModule(vector_b) * VectorSin(vector_a, vector_b)"
   ]
  },
  {
   "cell_type": "code",
   "execution_count": 34,
   "id": "b30d9bb8",
   "metadata": {},
   "outputs": [
    {
     "name": "stdout",
     "output_type": "stream",
     "text": [
      "4.472135954999579\n"
     ]
    }
   ],
   "source": [
    "print(VectorMult([1, 2, 3], [1, 2, 1]))"
   ]
  }
 ],
 "metadata": {
  "kernelspec": {
   "display_name": "Python 3",
   "language": "python",
   "name": "python3"
  },
  "language_info": {
   "codemirror_mode": {
    "name": "ipython",
    "version": 3
   },
   "file_extension": ".py",
   "mimetype": "text/x-python",
   "name": "python",
   "nbconvert_exporter": "python",
   "pygments_lexer": "ipython3",
   "version": "3.8.8"
  }
 },
 "nbformat": 4,
 "nbformat_minor": 5
}
