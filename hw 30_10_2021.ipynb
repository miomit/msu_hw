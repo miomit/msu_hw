{
 "cells": [
  {
   "cell_type": "markdown",
   "id": "77143686-a550-4ff3-bb3f-be5d5b05e7e4",
   "metadata": {},
   "source": [
    "hw 30_10_2021"
   ]
  },
  {
   "cell_type": "raw",
   "id": "23aa5b1b-abad-4fc0-81be-b079e8d93f93",
   "metadata": {},
   "source": [
    "№1\n",
    "\n",
    "Метод Карацубы"
   ]
  },
  {
   "cell_type": "code",
   "execution_count": 55,
   "id": "44b31cde-d5d1-407f-9d93-876e8f1d7206",
   "metadata": {},
   "outputs": [],
   "source": [
    "def max_len(x, y):\n",
    "    if len(str(x)) > len(str(y)):\n",
    "        return len(str(x))\n",
    "    else:\n",
    "        return len(str(y))\n",
    "\n",
    "def karatsuba(x, y):\n",
    "    if x < 10 or y < 10:\n",
    "        return x * y\n",
    "    \n",
    "    n = max_len(x, y)\n",
    "    half = n // 2\n",
    "\n",
    "    a = x // (10 ** (half))\n",
    "    b = x % (10 ** (half)) \n",
    "\n",
    "    c = y // (10 ** (half))\n",
    "    d = y % (10 ** (half))\n",
    "\n",
    "    ac = karatsuba(a, c)\n",
    "    bd = karatsuba(b, d)\n",
    "\n",
    "    ad_plus_bc = karatsuba(a + b, c + d) - ac - bd\n",
    "\n",
    "    return ac * (10 ** (2 * half)) + (ad_plus_bc * (10 ** half)) + bd"
   ]
  },
  {
   "cell_type": "code",
   "execution_count": 56,
   "id": "f10d7801-609d-4d1a-8199-4d9cbd927e17",
   "metadata": {},
   "outputs": [
    {
     "name": "stdout",
     "output_type": "stream",
     "text": [
      "132\n",
      "132\n"
     ]
    }
   ],
   "source": [
    "a, b = 12, 11\n",
    "\n",
    "print(a * b)\n",
    "\n",
    "print(karatsuba(a, b))"
   ]
  },
  {
   "cell_type": "raw",
   "id": "2da2246a-7d53-43b5-b6b4-6e24f2c120eb",
   "metadata": {},
   "source": [
    "№2\n",
    "\n",
    "Медианой ряда чисел (медианой числового ряда) называется число, стоящее посередине упорядоченного по возрастанию ряда чисел — в случае, если количество чисел нечётное. Если же количество чисел в ряду чётно, то медианой ряда является полусумма двух стоящих посередине чисел упорядоченного по возрастанию ряда."
   ]
  },
  {
   "cell_type": "code",
   "execution_count": 57,
   "id": "9786206d-708a-4e49-992c-35860035b76e",
   "metadata": {},
   "outputs": [],
   "source": [
    "def BubbleSort(arg_list):\n",
    "    arg_list = [] + arg_list\n",
    "    list_len = len(arg_list)\n",
    "    swapped = True\n",
    "    numberOfOperations = 0\n",
    "    right_border = 0\n",
    "    border = 0\n",
    "    while swapped:\n",
    "        swapped = False\n",
    "        for i in range(0, list_len - 1 - right_border):\n",
    "            numberOfOperations += 1\n",
    "            if arg_list[i] > arg_list[i + 1]:\n",
    "                arg_list[i], arg_list[i + 1] = arg_list[i + 1], arg_list[i]\n",
    "                swapped = True\n",
    "                border = i\n",
    "        right_border = list_len - 1 - border\n",
    "    return arg_list\n",
    "\n",
    "def median(arg_list):\n",
    "    n = len(arg_list)\n",
    "    index = n // 2\n",
    "    arg_list = BubbleSort(arg_list)\n",
    "    if n % 2:\n",
    "        return arg_list[index]\n",
    "    a, b = arg_list[index - 1:index + 1]\n",
    "    return (a + b) / 2"
   ]
  },
  {
   "cell_type": "code",
   "execution_count": 58,
   "id": "12dc37a7-043d-4a10-a8c8-bcd1fdd97173",
   "metadata": {},
   "outputs": [
    {
     "name": "stdout",
     "output_type": "stream",
     "text": [
      "5.0\n",
      "5.0\n"
     ]
    }
   ],
   "source": [
    "import statistics\n",
    "import random\n",
    "\n",
    "items = []\n",
    "\n",
    "for i in range(0, 10):\n",
    "    items += [random.randint(0, 10)]\n",
    "    \n",
    "print(statistics.median(items))\n",
    "print(median(items))"
   ]
  }
 ],
 "metadata": {
  "kernelspec": {
   "display_name": "Python 3",
   "language": "python",
   "name": "python3"
  },
  "language_info": {
   "codemirror_mode": {
    "name": "ipython",
    "version": 3
   },
   "file_extension": ".py",
   "mimetype": "text/x-python",
   "name": "python",
   "nbconvert_exporter": "python",
   "pygments_lexer": "ipython3",
   "version": "3.8.8"
  }
 },
 "nbformat": 4,
 "nbformat_minor": 5
}
